{
  "nbformat": 4,
  "nbformat_minor": 0,
  "metadata": {
    "colab": {
      "name": "Week 8 Worksheet.ipynb",
      "provenance": [],
      "authorship_tag": "ABX9TyOjSnmuX/I7KxXRE1VNQ+a1",
      "include_colab_link": true
    },
    "kernelspec": {
      "name": "python3",
      "display_name": "Python 3"
    }
  },
  "cells": [
    {
      "cell_type": "markdown",
      "metadata": {
        "id": "view-in-github",
        "colab_type": "text"
      },
      "source": [
        "<a href=\"https://colab.research.google.com/github/mlepinski/Python-Worksheets/blob/master/Week_8_Worksheet.ipynb\" target=\"_parent\"><img src=\"https://colab.research.google.com/assets/colab-badge.svg\" alt=\"Open In Colab\"/></a>"
      ]
    },
    {
      "cell_type": "markdown",
      "metadata": {
        "id": "n9fqZkp_XkQu"
      },
      "source": [
        "**FUN WITH HANGMAN**\n",
        "\n",
        "For the assignment this week, you will be implemented Hangman. The goal of this worksheet is to provide you with some examples that may be helpful in writing your Hangman program. \n",
        "\n",
        "You can find he assignment here: https://colab.research.google.com/github/mlepinski/Python-Worksheets/blob/master/Assignment_Week_8.ipynb"
      ]
    },
    {
      "cell_type": "markdown",
      "metadata": {
        "id": "1fbvnCwoX4hk"
      },
      "source": [
        "**BLANKS, LISTS, AND SUCH**\n",
        "\n",
        "My recommendation is to use a list of characters (letters/symbols). Lists have the advantage that it is easy to change a particular item in a list. \n",
        "\n",
        "For example, if you wanted to create a list of 3 blanks you could do something like this:"
      ]
    },
    {
      "cell_type": "code",
      "metadata": {
        "id": "9LwNeEKoEabq"
      },
      "source": [
        "my_list = []\n",
        "for num in range(3):\n",
        "  my_list.append(\"-\")"
      ],
      "execution_count": null,
      "outputs": []
    },
    {
      "cell_type": "markdown",
      "metadata": {
        "id": "Sgp8i8kDEiAL"
      },
      "source": [
        "The above example uses the dash character \"-\" for a blank, you are welcome to use another character like \"_\" \n",
        "\n",
        "It may be useful to convert a list to a string, or a string back to a list. Here is an example:"
      ]
    },
    {
      "cell_type": "code",
      "metadata": {
        "id": "4LOr1wmvFXdK"
      },
      "source": [
        "my_list = [\"C\", \"A\", \"T\"]\n",
        "print(my_list)\n",
        "\n",
        "my_string = \"\"\n",
        "my_string = my_string.join(my_list)\n",
        "print(my_string)\n",
        "\n",
        "new_list = list(my_string)\n",
        "print(new_list)"
      ],
      "execution_count": null,
      "outputs": []
    },
    {
      "cell_type": "markdown",
      "metadata": {
        "id": "mlmT3XgTFB09"
      },
      "source": [
        "Remember that if you want to change a particular item in a list, you can use the square bracket notation **my_list[0]** for the first item in a list ... or **my_list[2]** for the third item in a list. \n",
        "\n",
        "Here is an example:\n"
      ]
    },
    {
      "cell_type": "code",
      "metadata": {
        "id": "b8D5v65yF8rQ"
      },
      "source": [
        "my_list = [\"C\", \"A\", \"T\"]\n",
        "print(my_list)\n",
        "\n",
        "num = 1\n",
        "my_list[num] = \"O\"\n",
        "print(my_list)\n",
        "\n",
        "my_list[0] = \"D\"\n",
        "print(my_list)"
      ],
      "execution_count": null,
      "outputs": []
    },
    {
      "cell_type": "markdown",
      "metadata": {
        "id": "qYmAfTUCGZPz"
      },
      "source": [
        "The **len** function in Python can be used to find either the length of a string or the length of a list. It may be helpful to you in your program. "
      ]
    },
    {
      "cell_type": "code",
      "metadata": {
        "id": "Pd7zimWTGo7l"
      },
      "source": [
        "my_list = [\"C\", \"A\", \"T\"]\n",
        "length = len(my_list)\n",
        "print(my_list, length)\n",
        "\n",
        "my_string = \"door\"\n",
        "length = len(my_string)\n",
        "print(my_string, length)"
      ],
      "execution_count": null,
      "outputs": []
    },
    {
      "cell_type": "markdown",
      "metadata": {
        "id": "sNRmIp_mHBtO"
      },
      "source": [
        "Finally, it may be helpful to find a particular letter in a string (or a list). \n",
        "\n",
        "The dot **index** command works for both strings and lists and tells you the position of a letter (or symbol or whatever) in the string (or list). \n",
        "\n",
        "NOTE: Python starts counting at 0, so if **index** returns a 0, that means the thing you are looking for is the first letter in the string (or list). Similarly, **index** will return a 2 if the thing you are looking for is the third letter in the string. "
      ]
    },
    {
      "cell_type": "code",
      "metadata": {
        "id": "NWW1OMf_HQiL"
      },
      "source": [
        "my_list = [\"C\", \"A\", \"T\"]\n",
        "num = my_list.index(\"T\")\n",
        "print(my_list, ind)\n",
        "\n",
        "letter = \"K\"\n",
        "my_string = \"KITTEN\"\n",
        "num = my_string.index(letter)\n",
        "print(my_string, num)"
      ],
      "execution_count": null,
      "outputs": []
    },
    {
      "cell_type": "markdown",
      "metadata": {
        "id": "CU0Ztky5X3o-"
      },
      "source": [
        "**ASCII ART**\n",
        "\n",
        "We haven't talked about computer graphics, and so the easiest way to draw body parts is with some simple ASCII art. \n",
        "\n",
        "If you aren't familiar with ASCII art, you could check out the Wikipedia page: https://en.wikipedia.org/wiki/ASCII_art\n",
        "\n",
        "I would recommend that you write a function **print_body** that takes in (as input to the function) a number of body parts and prints the body parts. \n",
        "\n",
        "Here is a possible example of how **print_body** could work. Feel free to be creative with regards to the art. Also, this example uses 6 body parts, but you could make your game easier by adding more body parts (for example, two feet)."
      ]
    },
    {
      "cell_type": "code",
      "metadata": {
        "id": "RskHR_1uVG9l"
      },
      "source": [
        "def print_body(number):\n",
        "  if number == 1:\n",
        "    print(\"  (_)  \")\n",
        "  if number == 2:\n",
        "    print(\"  (_)  \")\n",
        "    print(\"   |   \")\n",
        "    print(\"   |   \")\n",
        "  if number == 3:\n",
        "    print(\"  (_)  \")\n",
        "    print(\"  /|   \")\n",
        "    print(\" / |   \")\n",
        "  if number == 4:\n",
        "    print(\"  (_)  \")\n",
        "    print(\"  /|\\  \")\n",
        "    print(\" / | \\ \")\n",
        "  if number == 5:\n",
        "    print(\"  (_)  \")\n",
        "    print(\"  /|\\  \")\n",
        "    print(\" / | \\ \")\n",
        "    print(\"  /    \")\n",
        "    print(\" /     \")\n",
        "  if number == 6:\n",
        "    print(\"  (_)  \")\n",
        "    print(\"  /|\\  \")\n",
        "    print(\" / | \\ \")\n",
        "    print(\"  / \\  \")\n",
        "    print(\" /   \\ \")   "
      ],
      "execution_count": null,
      "outputs": []
    },
    {
      "cell_type": "markdown",
      "metadata": {
        "id": "ABkbBaxMYoa9"
      },
      "source": [
        "**PICKING A WORD**\n",
        "\n",
        "Hangman isn't super fun when the hidden word is always the same. However, it is helpful to start with a simple procedue in a separate function. This allows you to later change the function to do something more interesting without changing the rest of your code.\n",
        "\n",
        "**IMPORTANT: THIS WORKSHEET WILL BE MODIFIED IN THE NEXT DAY OR TWO TO ADD ADVICE AND EXAMPLES**"
      ]
    },
    {
      "cell_type": "code",
      "metadata": {
        "id": "jM7S4ymmXN3R"
      },
      "source": [
        "#This is an a foolish example\n",
        "def choose_word():\n",
        "  return \"cat\""
      ],
      "execution_count": null,
      "outputs": []
    }
  ]
}