{
  "nbformat": 4,
  "nbformat_minor": 0,
  "metadata": {
    "colab": {
      "name": "Week 8 Worksheet.ipynb",
      "provenance": [],
      "authorship_tag": "ABX9TyMUdFgeWTIHoCqV/NbeW01T",
      "include_colab_link": true
    },
    "kernelspec": {
      "name": "python3",
      "display_name": "Python 3"
    }
  },
  "cells": [
    {
      "cell_type": "markdown",
      "metadata": {
        "id": "view-in-github",
        "colab_type": "text"
      },
      "source": [
        "<a href=\"https://colab.research.google.com/github/mlepinski/Python-Worksheets/blob/master/Week_8_Worksheet.ipynb\" target=\"_parent\"><img src=\"https://colab.research.google.com/assets/colab-badge.svg\" alt=\"Open In Colab\"/></a>"
      ]
    },
    {
      "cell_type": "markdown",
      "metadata": {
        "id": "n9fqZkp_XkQu"
      },
      "source": [
        "**FUN WITH HANGMAN**\n",
        "\n",
        "For the assignment this week, "
      ]
    },
    {
      "cell_type": "markdown",
      "metadata": {
        "id": "CU0Ztky5X3o-"
      },
      "source": [
        "**ASCII ART**\n",
        "\n",
        "My recommendation for the image ..."
      ]
    },
    {
      "cell_type": "markdown",
      "metadata": {
        "id": "1fbvnCwoX4hk"
      },
      "source": [
        "**BLANKS AND SUCH**\n",
        "\n",
        "My recommendation is to use a list"
      ]
    },
    {
      "cell_type": "markdown",
      "metadata": {
        "id": "ABkbBaxMYoa9"
      },
      "source": [
        "**PICKING A WORD**\n",
        "\n",
        "Hangman isn't fun"
      ]
    },
    {
      "cell_type": "code",
      "metadata": {
        "id": "jM7S4ymmXN3R"
      },
      "source": [
        ""
      ],
      "execution_count": null,
      "outputs": []
    }
  ]
}