{
  "nbformat": 4,
  "nbformat_minor": 0,
  "metadata": {
    "colab": {
      "name": "Week 8 Worksheet.ipynb",
      "provenance": [],
      "authorship_tag": "ABX9TyM0kfGE47qMUcMjWtT+rVnY",
      "include_colab_link": true
    },
    "kernelspec": {
      "name": "python3",
      "display_name": "Python 3"
    }
  },
  "cells": [
    {
      "cell_type": "markdown",
      "metadata": {
        "id": "view-in-github",
        "colab_type": "text"
      },
      "source": [
        "<a href=\"https://colab.research.google.com/github/mlepinski/Python-Worksheets/blob/master/Week_8_Worksheet.ipynb\" target=\"_parent\"><img src=\"https://colab.research.google.com/assets/colab-badge.svg\" alt=\"Open In Colab\"/></a>"
      ]
    },
    {
      "cell_type": "markdown",
      "metadata": {
        "id": "n9fqZkp_XkQu"
      },
      "source": [
        "**FUN WITH HANGMAN**\n",
        "\n",
        "For the assignment this week, you will be implemented Hangman. The goal of this worksheet is to provide you with some examples that may be helpful in writing your Hangman program. \n",
        "\n",
        "You can find he assignment here: https://colab.research.google.com/github/mlepinski/Python-Worksheets/blob/master/Assignment_Week_8.ipynb"
      ]
    },
    {
      "cell_type": "markdown",
      "metadata": {
        "id": "1fbvnCwoX4hk"
      },
      "source": [
        "**BLANKS, LISTS, AND SUCH**\n",
        "\n",
        "My recommendation is to use a list of characters (letters/symbols). Lists have the advantage that it is easy to change a particular item in a list. \n",
        "\n",
        "For example, if you wanted to create a list of 3 blanks you could do something like this:"
      ]
    },
    {
      "cell_type": "code",
      "metadata": {
        "id": "9LwNeEKoEabq"
      },
      "source": [
        "my_list = []\n",
        "for num in range(3):\n",
        "  my_list.append(\"-\")"
      ],
      "execution_count": null,
      "outputs": []
    },
    {
      "cell_type": "markdown",
      "metadata": {
        "id": "Sgp8i8kDEiAL"
      },
      "source": [
        "The above example uses the dash character \"-\" for a blank, you are welcome to use another character like \"_\" \n",
        "\n",
        "It may be useful to convert a list to a string, or a string back to a list. Here is an example:"
      ]
    },
    {
      "cell_type": "code",
      "metadata": {
        "id": "4LOr1wmvFXdK"
      },
      "source": [
        "my_list = [\"C\", \"A\", \"T\"]\n",
        "print(my_list)\n",
        "\n",
        "my_string = \"\"\n",
        "my_string = my_string.join(my_list)\n",
        "print(my_string)\n",
        "\n",
        "new_list = list(my_string)\n",
        "print(new_list)"
      ],
      "execution_count": null,
      "outputs": []
    },
    {
      "cell_type": "markdown",
      "metadata": {
        "id": "mlmT3XgTFB09"
      },
      "source": [
        "Remember that if you want to change a particular item in a list, you can use the square bracket notation **my_list[0]** for the first item in a list ... or **my_list[2]** for the third item in a list. \n",
        "\n",
        "Here is an example:\n"
      ]
    },
    {
      "cell_type": "code",
      "metadata": {
        "id": "b8D5v65yF8rQ"
      },
      "source": [
        "my_list = [\"C\", \"A\", \"T\"]\n",
        "print(my_list)\n",
        "\n",
        "num = 1\n",
        "my_list[num] = \"O\"\n",
        "print(my_list)\n",
        "\n",
        "my_list[0] = \"D\"\n",
        "print(my_list)"
      ],
      "execution_count": null,
      "outputs": []
    },
    {
      "cell_type": "markdown",
      "metadata": {
        "id": "qYmAfTUCGZPz"
      },
      "source": [
        "The **len** function in Python can be used to find either the length of a string or the length of a list. It may be helpful to you in your program. "
      ]
    },
    {
      "cell_type": "code",
      "metadata": {
        "id": "Pd7zimWTGo7l"
      },
      "source": [
        "my_list = [\"C\", \"A\", \"T\"]\n",
        "length = len(my_list)\n",
        "print(my_list, length)\n",
        "\n",
        "my_string = \"door\"\n",
        "length = len(my_string)\n",
        "print(my_string, length)"
      ],
      "execution_count": null,
      "outputs": []
    },
    {
      "cell_type": "markdown",
      "metadata": {
        "id": "sNRmIp_mHBtO"
      },
      "source": [
        "Finally, it may be helpful to find a particular letter in a string (or a list). \n",
        "\n",
        "The dot **index** command works for both strings and lists and tells you the position of a letter (or symbol or whatever) in the string (or list). \n",
        "\n",
        "NOTE: Python starts counting at 0, so if **index** returns a 0, that means the thing you are looking for is the first letter in the string (or list). Similarly, **index** will return a 2 if the thing you are looking for is the third letter in the string. "
      ]
    },
    {
      "cell_type": "code",
      "metadata": {
        "id": "NWW1OMf_HQiL"
      },
      "source": [
        "my_list = [\"C\", \"A\", \"T\"]\n",
        "num = my_list.index(\"T\")\n",
        "print(my_list, num)\n",
        "\n",
        "letter = \"K\"\n",
        "my_string = \"KITTEN\"\n",
        "num = my_string.index(letter)\n",
        "print(my_string, num)"
      ],
      "execution_count": null,
      "outputs": []
    },
    {
      "cell_type": "markdown",
      "metadata": {
        "id": "APRZlP_738Lw"
      },
      "source": [
        "NOTE: The dot **index** function always returns the location of the first place that the letter is found in the list (or string) ... starting at the begining of the list (or string)"
      ]
    },
    {
      "cell_type": "markdown",
      "metadata": {
        "id": "CU0Ztky5X3o-"
      },
      "source": [
        "**ASCII ART**\n",
        "\n",
        "We haven't talked about computer graphics, and so the easiest way to draw body parts is with some simple ASCII art. \n",
        "\n",
        "If you aren't familiar with ASCII art, you could check out the Wikipedia page: https://en.wikipedia.org/wiki/ASCII_art\n",
        "\n",
        "I would recommend that you write a function **print_body** that takes in (as input to the function) a number of body parts and prints the body parts. \n",
        "\n",
        "Here is a possible example of how **print_body** could work. Feel free to be creative with regards to the art. Also, this example uses 6 body parts, but you could make your game easier by adding more body parts (for example, two feet)."
      ]
    },
    {
      "cell_type": "code",
      "metadata": {
        "id": "RskHR_1uVG9l"
      },
      "source": [
        "def print_body(number):\n",
        "  if number == 1:\n",
        "    print(\"  (_)  \")\n",
        "  if number == 2:\n",
        "    print(\"  (_)  \")\n",
        "    print(\"   |   \")\n",
        "    print(\"   |   \")\n",
        "  if number == 3:\n",
        "    print(\"  (_)  \")\n",
        "    print(\"  /|   \")\n",
        "    print(\" / |   \")\n",
        "  if number == 4:\n",
        "    print(\"  (_)  \")\n",
        "    print(\"  /|\\  \")\n",
        "    print(\" / | \\ \")\n",
        "  if number == 5:\n",
        "    print(\"  (_)  \")\n",
        "    print(\"  /|\\  \")\n",
        "    print(\" / | \\ \")\n",
        "    print(\"  /    \")\n",
        "    print(\" /     \")\n",
        "  if number == 6:\n",
        "    print(\"  (_)  \")\n",
        "    print(\"  /|\\  \")\n",
        "    print(\" / | \\ \")\n",
        "    print(\"  / \\  \")\n",
        "    print(\" /   \\ \")   "
      ],
      "execution_count": null,
      "outputs": []
    },
    {
      "cell_type": "markdown",
      "metadata": {
        "id": "ABkbBaxMYoa9"
      },
      "source": [
        "**PICKING A WORD**\n",
        "\n",
        "Hangman isn't super fun when the hidden word is always the same. However, it is helpful to start with a simple procedue in a separate function. This allows you to later change the function to do something more interesting without changing the rest of your code.\n",
        "\n",
        "Let's start with a foolish example and then improve it. This is an excellent computer science problem solving technique. When faced with a hard problem, I often begin with the simplest possible solution and then iteratively improve my simple/stupid solution until it becomes good!"
      ]
    },
    {
      "cell_type": "code",
      "metadata": {
        "id": "jM7S4ymmXN3R"
      },
      "source": [
        "#This is an a foolish example\n",
        "def choose_word():\n",
        "  return \"cat\""
      ],
      "execution_count": null,
      "outputs": []
    },
    {
      "cell_type": "markdown",
      "metadata": {
        "id": "bYq_cewEA-S8"
      },
      "source": [
        "By default, Python doesn't do randomness, but if you **import random** you can get access to a variety of special commands that allow Python to make random choices. \n",
        "\n",
        "The **import** command in Python asks Python to fetch a package containing a bunch of definitions/vocabulary on some theme. The **import** provides a way for Python to grow over time as more and more people write packages on topics they care about. There are packages for data analysis, or web development, or graphics ... and many other topics"
      ]
    },
    {
      "cell_type": "code",
      "metadata": {
        "id": "G8A4ZiD9BsWS"
      },
      "source": [
        "import random\n",
        "\n",
        "my_list = [\"cat\", \"dog\", \"pig\"]\n",
        "my_word = random.choice(  my_list  )"
      ],
      "execution_count": null,
      "outputs": []
    },
    {
      "cell_type": "markdown",
      "metadata": {
        "id": "ElNyXe9SBihb"
      },
      "source": [
        "After you import random, the function **random.choice( ?? )** will randomly choose an item from the list that you put in the parentheses. \n",
        "\n",
        "This is great if you have a small number of possible words that you want to type in as part of your Python code. \n",
        "\n",
        "The problem with this approach is that if you want to change the list, you would need to change your Python code. Having to change your Python code isn't great, because Python code often breaks when you touch it. (Also, anyone who looked at your Python code would see the entire list of possibilities which would make the game less fun.)\n",
        "\n",
        "A better approach is to put the words in a separate file and then refer to that file in your Python code. We will be doing a lot in the next few weeks with looking at separate files, but here is an introduction."
      ]
    },
    {
      "cell_type": "code",
      "metadata": {
        "id": "G5P_wxvOC3nW"
      },
      "source": [
        "#First, I need to import a Python package for working with URLs and the Web\n",
        "import urllib.request\n",
        "\n",
        "#This grabs the first word from a Github file:\n",
        "def choose_word():\n",
        "  file_name = \"https://raw.githubusercontent.com/mlepinski/Python-Worksheets/master/coolWords.txt\"\n",
        "  my_file = urllib.request.urlopen(file_name)\n",
        "  word = my_file.readline()\n",
        "  return word\n",
        "\n",
        "print(choose_word())\n",
        "\n"
      ],
      "execution_count": null,
      "outputs": []
    },
    {
      "cell_type": "markdown",
      "metadata": {
        "id": "ltoiO-nCBrLy"
      },
      "source": [
        "The file name I got by going to my Github: https://github.com/mlepinski/Python-Worksheets and then clicking on the file I wanted and clicking \"raw\".\n",
        "\n",
        "This shows me the raw file without any random Github user interface stuff. I then copied the URL from my web browser into Python. (I assigned this URL to the variable **file_name** in the example above)\n",
        "\n",
        "As a sidenote, the **my_file.readline()** command asks Python for the first line in the file stored in variable **my_file**. The string that Python gives you when you ask for a line from a file always ends in \"/n\". (Backslash-n is Python's way of saying \"newline\")\n",
        "\n",
        "If instead of **readline()** we use **read** Python gives us a super long string containing the whole file. "
      ]
    },
    {
      "cell_type": "code",
      "metadata": {
        "id": "MyvY-ah_RCbF"
      },
      "source": [
        "#First, I need to import a Python package for working with URLs and the Web\n",
        "import urllib.request\n",
        "\n",
        "def choose_word():\n",
        "  file_name = \"https://raw.githubusercontent.com/mlepinski/Python-Worksheets/master/coolWords.txt\"\n",
        "  my_file = urllib.request.urlopen(file_name)\n",
        "  word = my_file.read()\n",
        "  return word\n",
        "\n",
        "print(choose_word())"
      ],
      "execution_count": null,
      "outputs": []
    },
    {
      "cell_type": "markdown",
      "metadata": {
        "id": "Wv5C_KLNRLaM"
      },
      "source": [
        "Okay, that wasn't actually very useful. \n",
        "\n",
        "You might have noticed that there is a strange thing where Python uses b\" to start the string instead of the normal \" ... What is that b doing there?\n",
        "\n",
        "So the b\" means that this is a funny string that can only have ASCII (North American English characters) ... Unlike most strings in Python that use unicode to represent characters from any language in the world. For reasons having to do with the history of the Internet, many strings that you grab from the Internet will be these weird b\" strings ...\n",
        "\n",
        "The **decode()** function can convert your string to a normal Python string that can include characters from any language. \"utf-8\" is the formal name for unicode, which is the international standard for computer strings that support all languages and not just English."
      ]
    },
    {
      "cell_type": "code",
      "metadata": {
        "id": "qXCKapN9SGrO"
      },
      "source": [
        "#First, I need to import a Python package for working with URLs and the Web\n",
        "import urllib.request\n",
        "\n",
        "def choose_word():\n",
        "  file_name = \"https://raw.githubusercontent.com/mlepinski/Python-Worksheets/master/coolWords.txt\"\n",
        "  my_file = urllib.request.urlopen(file_name)\n",
        "  word = my_file.read()\n",
        "  word = word.decode(\"utf-8\")\n",
        "  return word\n",
        "\n",
        "print(choose_word())"
      ],
      "execution_count": null,
      "outputs": []
    },
    {
      "cell_type": "markdown",
      "metadata": {
        "id": "l_HEhK7ESiOd"
      },
      "source": [
        "Okay, that looks more normal. But this is still giving us all of the words instead of just one word. \n",
        "\n",
        "We can use the **split()** function in Python to break a string into a list. We just tell Python how to divide the string into pieces. Sometimes we divide by comma or space, but for this file the items are separated by newlines. "
      ]
    },
    {
      "cell_type": "code",
      "metadata": {
        "id": "dO_MgZ9xTRWG",
        "outputId": "712e71fe-848c-48a4-a3af-46458300fa79",
        "colab": {
          "base_uri": "https://localhost:8080/",
          "height": 54
        }
      },
      "source": [
        "#First, I need to import a Python package for working with URLs and the Web\n",
        "import urllib.request\n",
        "\n",
        "def choose_word():\n",
        "  file_name = \"https://raw.githubusercontent.com/mlepinski/Python-Worksheets/master/coolWords.txt\"\n",
        "  my_file = urllib.request.urlopen(file_name)\n",
        "  long_string = my_file.read()\n",
        "  long_string = long_string.decode(\"utf-8\")\n",
        "  word_list = long_string.split(\"\\n\")\n",
        "  return word_list\n",
        "\n",
        "print(choose_word())"
      ],
      "execution_count": 11,
      "outputs": [
        {
          "output_type": "stream",
          "text": [
            "['Bulbasaur', 'Ivysaur', 'Venusaur', 'Charmander', 'Charmeleon', 'Charizard', 'Squirtle', 'Wartortle', 'Blastoise', 'Caterpie', 'Metapod', 'Butterfree', 'Weedle', 'Kakuna', 'Beedrill', 'Pidgey', 'Pidgeotto', 'Pidgeot', 'Rattata', 'Raticate', 'Spearow', 'Fearow', 'Ekans', 'Arbok', 'Pikachu', 'Raichu', 'Sandshrew', 'Sandslash', 'Nidoran♀', 'Nidorina', 'Nidoqueen', 'Nidoran♂', 'Nidorino', 'Nidoking', 'Clefairy', 'Clefable', 'Vulpix', 'Ninetales', 'Jigglypuff', 'Wigglytuff', 'Zubat', 'Golbat', 'Oddish', 'Gloom', 'Vileplume', 'Paras', 'Parasect', 'Venonat', 'Venomoth', 'Diglett', 'Dugtrio', 'Meowth', 'Persian', 'Psyduck', 'Golduck', 'Mankey', 'Primeape', 'Growlithe', 'Arcanine', 'Poliwag', 'Poliwhirl', 'Poliwrath', 'Abra', 'Kadabra', 'Alakazam', 'Machop', 'Machoke', 'Machamp', 'Bellsprout', 'Weepinbell', 'Victreebel', 'Tentacool', 'Tentacruel', 'Geodude', 'Graveler', 'Golem', 'Ponyta', 'Rapidash', 'Slowpoke', 'Slowbro', 'Magnemite', 'Magneton', \"Farfetch'd\", 'Doduo', 'Dodrio', 'Seel', 'Dewgong', 'Grimer', 'Muk', 'Shellder', 'Cloyster', 'Gastly', 'Haunter', 'Gengar', 'Onix', 'Drowzee', 'Hypno', 'Krabby', 'Kingler', 'Voltorb', 'Electrode', 'Exeggcute', 'Exeggutor', 'Cubone', 'Marowak', 'Hitmonlee', 'Hitmonchan', 'Lickitung', 'Koffing', 'Weezing', 'Rhyhorn', 'Rhydon', 'Chansey', 'Tangela', 'Kangaskhan', 'Horsea', 'Seadra', 'Goldeen', 'Seaking', 'Staryu', 'Starmie', 'Mr. Mime', 'Scyther', 'Jynx', 'Electabuzz', 'Magmar', 'Pinsir', 'Tauros', 'Magikarp', 'Gyarados', 'Lapras', 'Ditto', 'Eevee', 'Vaporeon', 'Jolteon', 'Flareon', 'Porygon', 'Omanyte', 'Omastar', 'Kabuto', 'Kabutops', 'Aerodactyl', 'Snorlax', 'Articuno', 'Zapdos', 'Moltres', 'Dratini', 'Dragonair', 'Dragonite', 'Mewtwo', 'Mew', 'Chikorita', 'Bayleef', 'Meganium', 'Cyndaquil', 'Quilava', 'Typhlosion', 'Totodile', 'Croconaw', 'Feraligatr', 'Sentret', 'Furret', 'Hoothoot', 'Noctowl', 'Ledyba', 'Ledian', 'Spinarak', 'Ariados', 'Crobat', 'Chinchou', 'Lanturn', 'Pichu', 'Cleffa', 'Igglybuff', 'Togepi', 'Togetic', 'Natu', 'Xatu', 'Mareep', 'Flaaffy', 'Ampharos', 'Bellossom', 'Marill', 'Azumarill', 'Sudowoodo', 'Politoed', 'Hoppip', 'Skiploom', 'Jumpluff', 'Aipom', 'Sunkern', 'Sunflora', 'Yanma', 'Wooper', 'Quagsire', 'Espeon', 'Umbreon', 'Murkrow', 'Slowking', 'Misdreavus', 'Unown', 'Wobbuffet', 'Girafarig', 'Pineco', 'Forretress', 'Dunsparce', 'Gligar', 'Steelix', 'Snubbull', 'Granbull', 'Qwilfish', 'Scizor', 'Shuckle', 'Heracross', 'Sneasel', 'Teddiursa', 'Ursaring', 'Slugma', 'Magcargo', 'Swinub', 'Piloswine', 'Corsola', 'Remoraid', 'Octillery', 'Delibird', 'Mantine', 'Skarmory', 'Houndour', 'Houndoom', 'Kingdra', 'Phanpy', 'Donphan', 'Porygon2', 'Stantler', 'Smeargle', 'Tyrogue', 'Hitmontop', 'Smoochum', 'Elekid', 'Magby', 'Miltank', 'Blissey', 'Raikou', 'Entei', 'Suicune', 'Larvitar', 'Pupitar', 'Tyranitar', 'Lugia', 'Ho-Oh', 'Celebi', 'Treecko', 'Grovyle', 'Sceptile', 'Torchic', 'Combusken', 'Blaziken', 'Mudkip', 'Marshtomp', 'Swampert', 'Poochyena', 'Mightyena', 'Zigzagoon', 'Linoone', 'Wurmple', 'Silcoon', 'Beautifly', 'Cascoon', 'Dustox', 'Lotad', 'Lombre', 'Ludicolo', 'Seedot', 'Nuzleaf', 'Shiftry', 'Taillow', 'Swellow', 'Wingull', 'Pelipper', 'Ralts', 'Kirlia', 'Gardevoir', 'Surskit', 'Masquerain', 'Shroomish', 'Breloom', 'Slakoth', 'Vigoroth', 'Slaking', 'Nincada', 'Ninjask', 'Shedinja', 'Whismur', 'Loudred', 'Exploud', 'Makuhita', 'Hariyama', 'Azurill', 'Nosepass', 'Skitty', 'Delcatty', 'Sableye', 'Mawile', 'Aron', 'Lairon', 'Aggron', 'Meditite', 'Medicham', 'Electrike', 'Manectric', 'Plusle', 'Minun', 'Volbeat', 'Illumise', 'Roselia', 'Gulpin', 'Swalot', 'Carvanha', 'Sharpedo', 'Wailmer', 'Wailord', 'Numel', 'Camerupt', 'Torkoal', 'Spoink', 'Grumpig', 'Spinda', 'Trapinch', 'Vibrava', 'Flygon', 'Cacnea', 'Cacturne', 'Swablu', 'Altaria', 'Zangoose', 'Seviper', 'Lunatone', 'Solrock', 'Barboach', 'Whiscash', 'Corphish', 'Crawdaunt', 'Baltoy', 'Claydol', 'Lileep', 'Cradily', 'Anorith', 'Armaldo', 'Feebas', 'Milotic', 'Castform', 'Kecleon', 'Shuppet', 'Banette', 'Duskull', 'Dusclops', 'Tropius', 'Chimecho', 'Absol', 'Wynaut', 'Snorunt', 'Glalie', 'Spheal', 'Sealeo', 'Walrein', 'Clamperl', 'Huntail', 'Gorebyss', 'Relicanth', 'Luvdisc', 'Bagon', 'Shelgon', 'Salamence', 'Beldum', 'Metang', 'Metagross', 'Regirock', 'Regice', 'Registeel', 'Latias', 'Latios', 'Kyogre', 'Groudon', 'Rayquaza', 'Jirachi', 'Deoxys', 'Turtwig', 'Grotle', 'Torterra', 'Chimchar', 'Monferno', 'Infernape', 'Piplup', 'Prinplup', 'Empoleon', 'Starly', 'Staravia', 'Staraptor', 'Bidoof', 'Bibarel', 'Kricketot', 'Kricketune', 'Shinx', 'Luxio', 'Luxray', 'Budew', 'Roserade', 'Cranidos', 'Rampardos', 'Shieldon', 'Bastiodon', 'Burmy', 'Wormadam', 'Mothim', 'Combee', 'Vespiquen', 'Pachirisu', 'Buizel', 'Floatzel', 'Cherubi', 'Cherrim', 'Shellos', 'Gastrodon', 'Ambipom', 'Drifloon', 'Drifblim', 'Buneary', 'Lopunny', 'Mismagius', 'Honchkrow', 'Glameow', 'Purugly', 'Chingling', 'Stunky', 'Skuntank', 'Bronzor', 'Bronzong', 'Bonsly', 'Mime Jr.', 'Happiny', 'Chatot', 'Spiritomb', 'Gible', 'Gabite', 'Garchomp', 'Munchlax', 'Riolu', 'Lucario', 'Hippopotas', 'Hippowdon', 'Skorupi', 'Drapion', 'Croagunk', 'Toxicroak', 'Carnivine', 'Finneon', 'Lumineon', 'Mantyke', 'Snover', 'Abomasnow', 'Weavile', 'Magnezone', 'Lickilicky', 'Rhyperior', 'Tangrowth', 'Electivire', 'Magmortar', 'Togekiss', 'Yanmega', 'Leafeon', 'Glaceon', 'Gliscor', 'Mamoswine', 'Porygon-Z', 'Gallade', 'Probopass', 'Dusknoir', 'Froslass', 'Rotom', 'Uxie', 'Mesprit', 'Azelf', 'Dialga', 'Palkia', 'Heatran', 'Regigigas', 'Giratina', 'Cresselia', 'Phione', 'Manaphy', 'Darkrai', 'Shaymin', 'Arceus', 'Victini', 'Snivy', 'Servine', 'Serperior', 'Tepig', 'Pignite', 'Emboar', 'Oshawott', 'Dewott', 'Samurott', 'Patrat', 'Watchog', 'Lillipup', 'Herdier', 'Stoutland', 'Purrloin', 'Liepard', 'Pansage', 'Simisage', 'Pansear', 'Simisear', 'Panpour', 'Simipour', 'Munna', 'Musharna', 'Pidove', 'Tranquill', 'Unfezant', 'Blitzle', 'Zebstrika', 'Roggenrola', 'Boldore', 'Gigalith', 'Woobat', 'Swoobat', 'Drilbur', 'Excadrill', 'Audino', 'Timburr', 'Gurdurr', 'Conkeldurr', 'Tympole', 'Palpitoad', 'Seismitoad', 'Throh', 'Sawk', 'Sewaddle', 'Swadloon', 'Leavanny', 'Venipede', 'Whirlipede', 'Scolipede', 'Cottonee', 'Whimsicott', 'Petilil', 'Lilligant', 'Basculin', 'Sandile', 'Krokorok', 'Krookodile', 'Darumaka', 'Darmanitan', 'Maractus', 'Dwebble', 'Crustle', 'Scraggy', 'Scrafty', 'Sigilyph', 'Yamask', 'Cofagrigus', 'Tirtouga', 'Carracosta', 'Archen', 'Archeops', 'Trubbish', 'Garbodor', 'Zorua', 'Zoroark', 'Minccino', 'Cinccino', 'Gothita', 'Gothorita', 'Gothitelle', 'Solosis', 'Duosion', 'Reuniclus', 'Ducklett', 'Swanna', 'Vanillite', 'Vanillish', 'Vanilluxe', 'Deerling', 'Sawsbuck', 'Emolga', 'Karrablast', 'Escavalier', 'Foongus', 'Amoonguss', 'Frillish', 'Jellicent', 'Alomomola', 'Joltik', 'Galvantula', 'Ferroseed', 'Ferrothorn', 'Klink', 'Klang', 'Klinklang', 'Tynamo', 'Eelektrik', 'Eelektross', 'Elgyem', 'Beheeyem', 'Litwick', 'Lampent', 'Chandelure', 'Axew', 'Fraxure', 'Haxorus', 'Cubchoo', 'Beartic', 'Cryogonal', 'Shelmet', 'Accelgor', 'Stunfisk', 'Mienfoo', 'Mienshao', 'Druddigon', 'Golett', 'Golurk', 'Pawniard', 'Bisharp', 'Bouffalant', 'Rufflet', 'Braviary', 'Vullaby', 'Mandibuzz', 'Heatmor', 'Durant', 'Deino', 'Zweilous', 'Hydreigon', 'Larvesta', 'Volcarona', 'Cobalion', 'Terrakion', 'Virizion', 'Tornadus', 'Thundurus', 'Reshiram', 'Zekrom', 'Landorus', 'Kyurem', 'Keldeo', 'Meloetta', 'Genesect', 'Chespin', 'Quilladin', 'Chesnaught', 'Fennekin', 'Braixen', 'Delphox', 'Froakie', 'Frogadier', 'Greninja', 'Bunnelby', 'Diggersby', 'Fletchling', 'Fletchinder', 'Talonflame', 'Scatterbug', 'Spewpa', 'Vivillon', 'Litleo', 'Pyroar', 'Flabébé', 'Floette', 'Florges', 'Skiddo', 'Gogoat', 'Pancham', 'Pangoro', 'Furfrou', 'Espurr', 'Meowstic', 'Honedge', 'Doublade', 'Aegislash', 'Spritzee', 'Aromatisse', 'Swirlix', 'Slurpuff', 'Inkay', 'Malamar', 'Binacle', 'Barbaracle', 'Skrelp', 'Dragalge', 'Clauncher', 'Clawitzer', 'Helioptile', 'Heliolisk', 'Tyrunt', 'Tyrantrum', 'Amaura', 'Aurorus', 'Sylveon', 'Hawlucha', 'Dedenne', 'Carbink', 'Goomy', 'Sliggoo', 'Goodra', 'Klefki', 'Phantump', 'Trevenant', 'Pumpkaboo', 'Gourgeist', 'Bergmite', 'Avalugg', 'Noibat', 'Noivern', 'Xerneas', 'Yveltal', 'Zygarde', '']\n"
          ],
          "name": "stdout"
        }
      ]
    },
    {
      "cell_type": "markdown",
      "metadata": {
        "id": "PBQ5X4HNTJBM"
      },
      "source": [
        "Okay, that didn't help us a lot. We still have a ton of words and we only want one. \n",
        "\n",
        "However, now that we have a list, we have options. Lists in Python are really powerful. We could loop through the list to grab a particular word. Or we could use the bracket notation **word_list[0]** to grab out one word from the list. \n",
        "\n",
        "I expect that the ideas from the examples above will be helpful to you when you are finishing your hangman program. I would strongly encourage you to have your program select a word from a file. You are welcome to use my list of words, or you could instead make a file in your GitHub repository that has your own list of words. "
      ]
    }
  ]
}