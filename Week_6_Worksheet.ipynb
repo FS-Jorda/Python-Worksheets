{
  "nbformat": 4,
  "nbformat_minor": 0,
  "metadata": {
    "colab": {
      "name": "Week 6 Worksheet.ipynb",
      "provenance": [],
      "authorship_tag": "ABX9TyNSyquT34D4594jZoPe7QPk",
      "include_colab_link": true
    },
    "kernelspec": {
      "name": "python3",
      "display_name": "Python 3"
    }
  },
  "cells": [
    {
      "cell_type": "markdown",
      "metadata": {
        "id": "view-in-github",
        "colab_type": "text"
      },
      "source": [
        "<a href=\"https://colab.research.google.com/github/mlepinski/Python-Worksheets/blob/master/Week_6_Worksheet.ipynb\" target=\"_parent\"><img src=\"https://colab.research.google.com/assets/colab-badge.svg\" alt=\"Open In Colab\"/></a>"
      ]
    },
    {
      "cell_type": "markdown",
      "metadata": {
        "id": "gsP3rBmGNCQ4"
      },
      "source": [
        "# WEEK SIX WORKSHEET : Introduction to Lists"
      ]
    },
    {
      "cell_type": "markdown",
      "metadata": {
        "id": "M0i2QR_sNHwr"
      },
      "source": [
        "**LISTS AND VARIABLES**\n",
        "\n",
        "A list is just an ordered colleciton of values in Python. \n",
        "\n",
        "Lists allow you you to have a bunch of values stored in a single variable. You can then refer to these values collectively by referencing the name of the variable. \n",
        "\n",
        "In Python, lists are written using square brackets and separating the values with commas. "
      ]
    },
    {
      "cell_type": "code",
      "metadata": {
        "id": "fs6D8m7NxVBE"
      },
      "source": [
        "fruits = [\"banana\", \"apple\", \"orange\"]\n",
        "nums = [3, 5, 10]\n",
        "\n",
        "print(\"Here is the list of fruits: \", fruits)\n",
        "print(\"Here is the list of numbers: \", nums)"
      ],
      "execution_count": null,
      "outputs": []
    },
    {
      "cell_type": "markdown",
      "metadata": {
        "id": "yMT-uJj3OTqw"
      },
      "source": [
        "When you make a list, you can also use the name of a variable inside the list. When you do this, Python uses whatever value was inside in the variable at the moment the list was created. \n"
      ]
    },
    {
      "cell_type": "code",
      "metadata": {
        "id": "VASqu_xaOC02"
      },
      "source": [
        "x = 5\n",
        "nums = [1, 2, x]\n",
        "\n",
        "print(\"Here is the list of numbers: \", nums)"
      ],
      "execution_count": null,
      "outputs": []
    },
    {
      "cell_type": "markdown",
      "metadata": {
        "id": "yRvnyQE-O0Ro"
      },
      "source": [
        "\n",
        "\n",
        "---\n",
        "\n",
        "\n",
        "\n",
        "---\n",
        "\n",
        "\n",
        "\n",
        "**LISTS COMMANDS**\n",
        "\n",
        "Python uses a special dot notation to give commands to an object like a list. \n",
        "\n",
        "Two of the most common things that you might want to do with a list are add an item or remove an item. Python provides the commands .append() and .remove() to add and remove values from a list. \n"
      ]
    },
    {
      "cell_type": "code",
      "metadata": {
        "id": "ktLUKDaIPSEI"
      },
      "source": [
        "fruits = [\"banana\", \"orange\", \"apple\"]\n",
        "\n",
        "print(\"The list starts with these values: \", fruits)\n",
        "\n",
        "fruits.append(\"melon\")\n",
        "\n",
        "print(\"We then add a fruit to get this: \", fruits)\n",
        "\n",
        "fruits.remove(\"orange\")\n",
        "\n",
        "print(\"We then remove a fruit to get this: \", fruits)"
      ],
      "execution_count": null,
      "outputs": []
    },
    {
      "cell_type": "markdown",
      "metadata": {
        "id": "UszUngTeP2zw"
      },
      "source": [
        "Note that a list can contain multiple copies of an item. \n",
        "\n",
        "If there are multiple copies of an item in a list, remove will only remove the first copy. "
      ]
    },
    {
      "cell_type": "code",
      "metadata": {
        "id": "OrRoGsZjQJJY"
      },
      "source": [
        "nums = [1, 3, 1, 5]\n",
        "\n",
        "print(\"The list starts with these values: \", nums)\n",
        "\n",
        "nums.remove(1)\n",
        "\n",
        "print(\"Removing one item changes the list to be: \", nums)"
      ],
      "execution_count": null,
      "outputs": []
    },
    {
      "cell_type": "markdown",
      "metadata": {
        "id": "B2bInXPaQItI"
      },
      "source": [
        "\n",
        "\n",
        "---\n",
        "\n",
        "\n",
        "\n",
        "---\n",
        "\n",
        "\n",
        "\n",
        "**LISTS AND IF STATEMENTS**\n",
        "\n",
        "A natural question to ask about a list is whether it contains a particular value. \n",
        "\n",
        "We can use an if statement to check and see if the list contains a particular value. "
      ]
    },
    {
      "cell_type": "code",
      "metadata": {
        "id": "8TV5kULVQvg6"
      },
      "source": [
        "fruits = [\"banana\", \"apple\", \"orange\"]\n",
        "\n",
        "if \"banana\" in fruits:\n",
        "  print(\"The list contains a banana\")\n",
        "else:\n",
        "  print(\"The list does not contain a banana\")\n",
        "\n",
        "fruits.remove(\"banana\")\n",
        "\n",
        "if \"banana\" in fruits:\n",
        "  print(\"The list still contains a banana\")\n",
        "else:\n",
        "  print(\"The list no longer contains a banana\")"
      ],
      "execution_count": null,
      "outputs": []
    },
    {
      "cell_type": "markdown",
      "metadata": {
        "id": "5H9TXft7RPFo"
      },
      "source": [
        "We can also use variables to add and remove items from a list.\n",
        "\n",
        "For example, this could be useful if you wanted to have the user type something from the keyboard. "
      ]
    },
    {
      "cell_type": "code",
      "metadata": {
        "id": "CUEzTO6bRqKJ"
      },
      "source": [
        "favorite_fruits = [\"banana\", \"apple\", \"orange\"]\n",
        "\n",
        "user_fruit = input(\"Enter a Fruit: \")\n",
        "\n",
        "if user_fruit in favorite_fruits:\n",
        "  print(user_fruit, \" is one of my favorite fruits!\")\n",
        "else:\n",
        "  print(user_fruit, \" is not oone of my favorite fruits!\")\n",
        "\n"
      ],
      "execution_count": null,
      "outputs": []
    },
    {
      "cell_type": "markdown",
      "metadata": {
        "id": "QmEA4ujeSboQ"
      },
      "source": [
        "Lists can also be used to force users to enter one of several particular values. "
      ]
    },
    {
      "cell_type": "code",
      "metadata": {
        "id": "YLz392uTSl-v",
        "outputId": "bdea173c-4256-48b5-c283-0d8d47bfb046",
        "colab": {
          "base_uri": "https://localhost:8080/",
          "height": 128
        }
      },
      "source": [
        "yes_no = [\"Yes\", \"No\", \"yes\", \"no\", \"YES\", \"NO\"]\n",
        "\n",
        "user_text = input(\"Please enter Yes or No: \")\n",
        "\n",
        "while not user_text in yes_no:\n",
        "  print(\"You did not answer Yes or No\")\n",
        "  user_text = input(\"Please enter Yes or No: \")\n",
        "\n",
        "print(\"Excellent, you entered\", user_text)"
      ],
      "execution_count": null,
      "outputs": [
        {
          "output_type": "error",
          "ename": "SyntaxError",
          "evalue": "ignored",
          "traceback": [
            "\u001b[0;36m  File \u001b[0;32m\"<ipython-input-11-f9fda8c42766>\"\u001b[0;36m, line \u001b[0;32m1\u001b[0m\n\u001b[0;31m    yes_no = [\"Yes\", \"No\", \"yes\", \"no\",\u001b[0m\n\u001b[0m                                        ^\u001b[0m\n\u001b[0;31mSyntaxError\u001b[0m\u001b[0;31m:\u001b[0m unexpected EOF while parsing\n"
          ]
        }
      ]
    },
    {
      "cell_type": "markdown",
      "metadata": {
        "id": "634FRHauTF62"
      },
      "source": [
        "\n",
        "\n",
        "---\n",
        "\n",
        "\n",
        "\n",
        "---\n",
        "\n",
        "\n",
        "\n",
        "**REFERRING TO ITEMS IN A LIST**\n",
        "\n",
        "Python also lets you refer to a particular item in a list. \n",
        "\n",
        "If a list is stored in a variable my_list, then my_list[0] refers to the first time in the list, my_list[1] refers to the second item in a list, and so on\n",
        "\n",
        "Note: Python likes to start counting at 0. "
      ]
    },
    {
      "cell_type": "code",
      "metadata": {
        "id": "wqbL6eDETssw"
      },
      "source": [
        "fruits = [\"banana\", \"apple\", \"orange\"]\n",
        "\n",
        "print(\"The first fruit in the list is\", fruits[0])\n",
        "print(\"The second fruit in the list is\", fruits[1])"
      ],
      "execution_count": null,
      "outputs": []
    },
    {
      "cell_type": "markdown",
      "metadata": {
        "id": "P-ba6kNkT3pQ"
      },
      "source": [
        "You can also use the notation fruits[0] to change an item in a list. "
      ]
    },
    {
      "cell_type": "code",
      "metadata": {
        "id": "HSgDy67_UC_p"
      },
      "source": [
        "fruits = [\"banana\", \"apple\", \"orange\"]\n",
        "print(\"The starting list is: \", fruits)\n",
        "\n",
        "fruits[0] = \"BANANA\"\n",
        "print(\"Now the list is: \", fruits)\n",
        "\n",
        "fruits[2] = \"ORANGE\"\n",
        "print(\"The final list is: \", fruits)"
      ],
      "execution_count": null,
      "outputs": []
    },
    {
      "cell_type": "markdown",
      "metadata": {
        "id": "gTgiSj8RUv7u"
      },
      "source": [
        "Here is another similar example:"
      ]
    },
    {
      "cell_type": "code",
      "metadata": {
        "id": "jJ7qsM-UUzOX"
      },
      "source": [
        "nums = [10, 15, 20]\n",
        "print(\"The starting list is: \", nums)\n",
        "\n",
        "nums[0] = nums[0] + 2\n",
        "print(\"Now the list is: \", nums)\n",
        "\n",
        "nums[1] = nums[1] + 2\n",
        "print(\"The final list is: \", nums)"
      ],
      "execution_count": null,
      "outputs": []
    },
    {
      "cell_type": "markdown",
      "metadata": {
        "id": "cQFhU-P_Uien"
      },
      "source": [
        "\n",
        "\n",
        "---\n",
        "\n",
        "\n",
        "\n",
        "---\n",
        "\n",
        "\n",
        "\n",
        "**LISTS AND LOOPS**\n",
        "\n",
        "We will often want to loop through the items in a list. \n",
        "\n",
        "The easiest way to do this is typically to use a for loop. "
      ]
    },
    {
      "cell_type": "code",
      "metadata": {
        "id": "j_nNzmaQUuU4"
      },
      "source": [
        "fruits = [\"banana\", \"apple\", \"orange\"]\n",
        "\n",
        "for f in fruits:\n",
        "  print(f, \"is a fruit in the list\")"
      ],
      "execution_count": null,
      "outputs": []
    },
    {
      "cell_type": "markdown",
      "metadata": {
        "id": "5EWDVTq6Vnvn"
      },
      "source": [
        "The above for loop executes once for each item in the list. \n",
        "\n",
        "Another way to loop through a list is using the fruits[0] style notation. \n",
        "\n",
        "Note that len() is a Python function that returns the number of items in a list."
      ]
    },
    {
      "cell_type": "code",
      "metadata": {
        "id": "JLu0eXhgWjml"
      },
      "source": [
        "fruits = [\"banana\", \"apple\", \"orange\"]\n",
        "\n",
        "num_fruits = len(fruits)\n",
        "\n",
        "for count in range(num_fruits):\n",
        "  f = fruits[count]\n",
        "  print(f, \"is a fruit in the list\")"
      ],
      "execution_count": null,
      "outputs": []
    },
    {
      "cell_type": "markdown",
      "metadata": {
        "id": "W5WvezQsW6mv"
      },
      "source": [
        "This second example does the same thing as the previous example, but in a slightly different way. \n",
        "\n",
        "This second way of looping through a list is particularly useful if want to step through two lists at the same time."
      ]
    },
    {
      "cell_type": "code",
      "metadata": {
        "id": "g8uarVe7XdmG"
      },
      "source": [
        "fruits = [\"banana\", \"apple\", \"orange\", \"berry\"]\n",
        "nums = [1, 3, 5, 10]\n",
        "\n",
        "num_fruits = len(fruits)\n",
        "\n",
        "for count in range(num_fruits):\n",
        "  print(\"This time through the loop, the count variable is \", count)\n",
        "  f = fruits[count]\n",
        "  number = nums[count]\n",
        "  print(\"I would like to eat\", number, f)"
      ],
      "execution_count": null,
      "outputs": []
    },
    {
      "cell_type": "markdown",
      "metadata": {
        "id": "f3MVoRq0X74B"
      },
      "source": [
        "\n",
        "\n",
        "---\n",
        "\n",
        "\n",
        "\n",
        "---\n",
        "\n",
        "\n",
        "\n",
        "**A FINAL EXAMPLE**\n",
        "\n",
        "We will do more with lists in future weeks. \n",
        "\n",
        "However, I would like to leave you with one final example which builds up a list by repeatedly asking the user to enter a number. \n",
        "\n",
        "Note that Python uses [] to represent the empty list (a list that contains no values). Often when we are building up a list from scratch, we will start with the empty list and then add values to the list one at a time."
      ]
    },
    {
      "cell_type": "code",
      "metadata": {
        "id": "T3WlYORWYlrQ"
      },
      "source": [
        "my_nums = []\n",
        "\n",
        "number = int( input(\"Enter a number to add to the list, or enter 0 to stop: \"))\n",
        "\n",
        "while not number == 0:\n",
        "  my_nums.append(number)\n",
        "  number = int( input(\"Enter a number to add to the list, or enter 0 to stop: \"))\n",
        "\n",
        "print(\"The final list is: \", my_nums)"
      ],
      "execution_count": null,
      "outputs": []
    }
  ]
}