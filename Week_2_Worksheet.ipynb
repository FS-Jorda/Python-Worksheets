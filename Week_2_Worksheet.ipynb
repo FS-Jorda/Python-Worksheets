{
  "nbformat": 4,
  "nbformat_minor": 0,
  "metadata": {
    "colab": {
      "name": "Week 1 Worksheet.ipynb",
      "provenance": [],
      "include_colab_link": true
    },
    "kernelspec": {
      "name": "python3",
      "display_name": "Python 3"
    }
  },
  "cells": [
    {
      "cell_type": "markdown",
      "metadata": {
        "id": "view-in-github",
        "colab_type": "text"
      },
      "source": [
        "<a href=\"https://colab.research.google.com/github/mlepinski/Python-Worksheets/blob/master/Week_2_Worksheet.ipynb\" target=\"_parent\"><img src=\"https://colab.research.google.com/assets/colab-badge.svg\" alt=\"Open In Colab\"/></a>"
      ]
    },
    {
      "cell_type": "markdown",
      "metadata": {
        "id": "trXjnwqZOUqJ",
        "colab_type": "text"
      },
      "source": [
        "# WEEK TWO WORKSHEET : Python Basics"
      ]
    },
    {
      "cell_type": "markdown",
      "metadata": {
        "id": "Ble9HQ28O_xa",
        "colab_type": "text"
      },
      "source": [
        "**Python can do basic math!**\n",
        "\n",
        "There is some Python code below here that adds 5 + 3\n",
        "\n",
        "Mouse over the code and press the little Arrow button on the Left side to run the code. Plese do this now."
      ]
    },
    {
      "cell_type": "code",
      "metadata": {
        "id": "mpxZ-wbROLmD",
        "colab_type": "code",
        "colab": {}
      },
      "source": [
        "2 * 3"
      ],
      "execution_count": null,
      "outputs": []
    },
    {
      "cell_type": "markdown",
      "metadata": {
        "id": "UkTnUElyPkxx",
        "colab_type": "text"
      },
      "source": [
        "When you clicked the Arrow, Python evaluated the expression and showed you the result. \n",
        "\n",
        "(An \"expresssion\" is just a chunk of Python code the computes a value)\n",
        "\n",
        "Here is another expression:"
      ]
    },
    {
      "cell_type": "code",
      "metadata": {
        "id": "dEcqhWdWQKC3",
        "colab_type": "code",
        "colab": {}
      },
      "source": [
        "2 * 3 + 5"
      ],
      "execution_count": null,
      "outputs": []
    },
    {
      "cell_type": "markdown",
      "metadata": {
        "id": "ryhvMdo-QUrx",
        "colab_type": "text"
      },
      "source": [
        "Typically, when we compute something in Python, we will want to remember the value so that we can use it later on. \n",
        "\n",
        "The statement below computes a value and names it X\n",
        "\n",
        "Press the arrow to have Python evaluate the next statement"
      ]
    },
    {
      "cell_type": "code",
      "metadata": {
        "id": "rxcXfbckQ9lf",
        "colab_type": "code",
        "colab": {}
      },
      "source": [
        "X = 2 * 3"
      ],
      "execution_count": null,
      "outputs": []
    },
    {
      "cell_type": "markdown",
      "metadata": {
        "id": "opTYbOzLROfo",
        "colab_type": "text"
      },
      "source": [
        "You probably noticed that when Python evaluated this statement, it didn't give you an answer\n",
        "\n",
        "So a \"statement\" in Python is a command that asks Python to do something \n",
        "\n",
        "For example, the statement above asks Python to give a name X to the value 2 * 3\n",
        "\n",
        "statements like this don't return an answer the way that evaluating the mathematical expression did\n",
        "\n",
        "\n",
        "---\n",
        "\n",
        "\n",
        "if we want to know what the value is that we just named X, we can ask Python to print the value\n"
      ]
    },
    {
      "cell_type": "code",
      "metadata": {
        "id": "9iFhBsPPR3Gj",
        "colab_type": "code",
        "colab": {}
      },
      "source": [
        "print(X)"
      ],
      "execution_count": null,
      "outputs": []
    },
    {
      "cell_type": "markdown",
      "metadata": {
        "id": "q3rwv6oSTUkw",
        "colab_type": "text"
      },
      "source": [
        "We say that X is a \"variable\" \n",
        "\n",
        "We have \"assigned\" the value 2*3 to the variable X\n",
        "\n",
        "A variable is just a name for referring to a value\n",
        "\n",
        "Sometimes we think of a variable as a box that you can put a value into\n",
        "\n",
        "\n",
        "---\n",
        "\n",
        "Once we have a variable, we can use it like this:"
      ]
    },
    {
      "cell_type": "code",
      "metadata": {
        "id": "DtnamFHXUlXB",
        "colab_type": "code",
        "colab": {}
      },
      "source": [
        "X+5"
      ],
      "execution_count": null,
      "outputs": []
    },
    {
      "cell_type": "markdown",
      "metadata": {
        "id": "L32pbHNhVHIO",
        "colab_type": "text"
      },
      "source": [
        "\n",
        "\n",
        "---\n",
        "\n",
        "\n",
        "---\n",
        "\n",
        "\n",
        "**FUN WITH VARIABLES**\n",
        "\n",
        "You can give a variable pretty much any name\n"
      ]
    },
    {
      "cell_type": "code",
      "metadata": {
        "id": "_RWnLPMdVppv",
        "colab_type": "code",
        "colab": {}
      },
      "source": [
        "alice = 1\n",
        "the_bob = 2\n",
        "cathy3 = 3\n",
        "\n",
        "print (alice + the_bob + cathy3)"
      ],
      "execution_count": null,
      "outputs": []
    },
    {
      "cell_type": "markdown",
      "metadata": {
        "id": "PXpllrcHV8XR",
        "colab_type": "text"
      },
      "source": [
        "However, one rule is that a variable name must start with a letter\n",
        "\n",
        "Python complains if you try to give a variable an improper name\n",
        "\n",
        "This is a type of \"Syntax Error\""
      ]
    },
    {
      "cell_type": "code",
      "metadata": {
        "id": "m-6lMQlCWO42",
        "colab_type": "code",
        "colab": {}
      },
      "source": [
        "2_daniel = 5"
      ],
      "execution_count": null,
      "outputs": []
    },
    {
      "cell_type": "markdown",
      "metadata": {
        "id": "ctmeyLUeWelF",
        "colab_type": "text"
      },
      "source": [
        "We use the equals sign = to tell Python to assign a value to a variable\n",
        "\n",
        "The variable always goes on the LEFT and the value goes on the right\n",
        "\n",
        "So this assigns the value 5 to the variable Y :"
      ]
    },
    {
      "cell_type": "code",
      "metadata": {
        "id": "nXzF0T1nWz6W",
        "colab_type": "code",
        "colab": {}
      },
      "source": [
        "Y = 5\n",
        "print(Y)"
      ],
      "execution_count": null,
      "outputs": []
    },
    {
      "cell_type": "markdown",
      "metadata": {
        "id": "mQL9C2gaW4Qu",
        "colab_type": "text"
      },
      "source": [
        "But this next statement is a Syntax Error ... because the thing in front of the = MUST be a variable name"
      ]
    },
    {
      "cell_type": "code",
      "metadata": {
        "id": "3pjWkpPdXHOI",
        "colab_type": "code",
        "colab": {}
      },
      "source": [
        "5 = Y\n",
        "print(Y)"
      ],
      "execution_count": null,
      "outputs": []
    },
    {
      "cell_type": "markdown",
      "metadata": {
        "id": "FXnx7hg2XJoW",
        "colab_type": "text"
      },
      "source": [
        "If you assign a value to a variable that already has a value, Python throws out the old value and uses the new value"
      ]
    },
    {
      "cell_type": "code",
      "metadata": {
        "id": "5IwelXjSfZTB",
        "colab_type": "code",
        "colab": {}
      },
      "source": [
        "X = 5\n",
        "X = 1\n",
        "print(X)"
      ],
      "execution_count": null,
      "outputs": []
    },
    {
      "cell_type": "markdown",
      "metadata": {
        "id": "TwRp_AGifi0P",
        "colab_type": "text"
      },
      "source": [
        "Notice that Python printed 1 (and not 5) as the value of X\n",
        "\n",
        "Python executes statements in order from top to bottom and new values for variables replace old ones\n",
        "\n",
        "\n",
        "---\n",
        "\n",
        "Sometimes we use a variable (like X) to compute the value for other variables (like Y and Z)"
      ]
    },
    {
      "cell_type": "code",
      "metadata": {
        "id": "m1VQ4g6PggG2",
        "colab_type": "code",
        "colab": {}
      },
      "source": [
        "X = 1\n",
        "Y = X + 1\n",
        "Z = X + 2\n",
        "print(Z)"
      ],
      "execution_count": null,
      "outputs": []
    },
    {
      "cell_type": "markdown",
      "metadata": {
        "id": "K7wpwbAihDcw",
        "colab_type": "text"
      },
      "source": [
        "\n",
        "\n",
        "---\n",
        "\n",
        "\n",
        "\n",
        "---\n",
        "\n",
        "**FUN WITH TEXT**\n",
        "\n",
        "Okay, that is probably enough math for now.\n",
        "\n",
        "***I promise this isn't a math course!***\n",
        "\n",
        "We can also put text into a variable:"
      ]
    },
    {
      "cell_type": "code",
      "metadata": {
        "id": "ZXMR-UqUh5Ff",
        "colab_type": "code",
        "colab": {}
      },
      "source": [
        "last_name = \"Lepinski\"\n",
        "print(last_name)"
      ],
      "execution_count": null,
      "outputs": []
    },
    {
      "cell_type": "markdown",
      "metadata": {
        "id": "kD7SGyJUh_Ut",
        "colab_type": "text"
      },
      "source": [
        "In Python, we call text inside of quotation marks a \"String\"\n",
        "\n",
        "We need the quote marks so that Python can tell the difference between a piece of text and a variable name\n",
        "\n",
        "If we leave out the quotation marks, Python will look for a variable named Lepinski instead of using the text string \"Lepinski\""
      ]
    },
    {
      "cell_type": "code",
      "metadata": {
        "id": "PZYZKkuAio3O",
        "colab_type": "code",
        "colab": {}
      },
      "source": [
        "Lepinski = 10\n",
        "last_name = Lepinski\n",
        "print(last_name)"
      ],
      "execution_count": null,
      "outputs": []
    },
    {
      "cell_type": "markdown",
      "metadata": {
        "id": "KWDfSgTiivu_",
        "colab_type": "text"
      },
      "source": [
        "So we need to use quotes around our text string:"
      ]
    },
    {
      "cell_type": "code",
      "metadata": {
        "id": "qHbPNL_1i5C-",
        "colab_type": "code",
        "colab": {}
      },
      "source": [
        "Lepinski = 10\n",
        "last_name = \"Lepinski\"\n",
        "print(last_name)"
      ],
      "execution_count": null,
      "outputs": []
    },
    {
      "cell_type": "markdown",
      "metadata": {
        "id": "RZlMVlAzi8c8",
        "colab_type": "text"
      },
      "source": [
        "Python uses the + symbol to combine two text strings"
      ]
    },
    {
      "cell_type": "code",
      "metadata": {
        "id": "fEY55jxxjF0l",
        "colab_type": "code",
        "colab": {}
      },
      "source": [
        "first_name = \"Matt\"\n",
        "last_name = \"Lepinski\"\n",
        "name = first_name + last_name\n",
        "print(name)"
      ],
      "execution_count": null,
      "outputs": []
    },
    {
      "cell_type": "markdown",
      "metadata": {
        "id": "2RQsZohwjN31",
        "colab_type": "text"
      },
      "source": [
        "Oops ... I probably wanted to include a space\n",
        "\n",
        "Python uses \" \" for an empty space"
      ]
    },
    {
      "cell_type": "code",
      "metadata": {
        "id": "0moJ05HAjV_M",
        "colab_type": "code",
        "colab": {}
      },
      "source": [
        "first_name = \"Matt\"\n",
        "last_name = \"Lepinski\"\n",
        "name = first_name + \" \" + last_name\n",
        "print(name)"
      ],
      "execution_count": null,
      "outputs": []
    },
    {
      "cell_type": "markdown",
      "metadata": {
        "id": "wsHoTZXVjfVd",
        "colab_type": "text"
      },
      "source": [
        "\n",
        "\n",
        "---\n",
        "\n",
        "\n",
        "\n",
        "---\n",
        "\n",
        "\n",
        "**INPUT FROM THE USER**\n",
        "\n",
        "Sometimes we don't know what value to put in a variable when we are writing our Python program.\n",
        "\n",
        "We will talk later in the course about having Python use text or other data that is stored on your computer\n",
        "\n",
        "For now, we will talk about getting input from the user"
      ]
    },
    {
      "cell_type": "code",
      "metadata": {
        "id": "iyxHvMpaj8w_",
        "colab_type": "code",
        "colab": {}
      },
      "source": [
        "first_name = input(\"Enter your first name:\")\n",
        "last_name = input(\"Enter your last name:\")\n",
        "name = first_name + \" \" + last_name\n",
        "print(name)"
      ],
      "execution_count": null,
      "outputs": []
    },
    {
      "cell_type": "markdown",
      "metadata": {
        "id": "S7Ymn1FSlPUF",
        "colab_type": "text"
      },
      "source": [
        "The input command prompts the user by showing them the text (the string inside the parentheses) and then waits for the user to enter something and hit enter\n",
        "\n",
        "input treats whatever the user types as a text string\n",
        "\n",
        "In the example below, try entering 2 for the first question and enter 3 for the second question"
      ]
    },
    {
      "cell_type": "code",
      "metadata": {
        "id": "ROWVHW6OmEcH",
        "colab_type": "code",
        "colab": {}
      },
      "source": [
        "a_number = input(\"Enter a number:\")\n",
        "another_number = input(\"Enter another number:\")\n",
        "X = a_number + another_number\n",
        "print(X)"
      ],
      "execution_count": null,
      "outputs": []
    },
    {
      "cell_type": "markdown",
      "metadata": {
        "id": "cz9mlh1ymcsd",
        "colab_type": "text"
      },
      "source": [
        "So that was kind of strange ...\n",
        "\n",
        "This is because Python sees \"2\" and 2 as different things.\n",
        "\n",
        "\"2\" is a string of text containing the symbol \"2\" from the keyboard and 2 is the number 2. \n",
        "\n",
        "Just like \"Matt\" + \"Lepinski\" was \"MattLepinski\", \"2\" + \"3\" is \"23\"\n",
        "\n",
        "So if we want to take a number as input from the user and have Python understand that it is a number (and not a String of text) then we need to explicitly tell Python -- MAKE THIS AN INTEGER"
      ]
    },
    {
      "cell_type": "code",
      "metadata": {
        "id": "UAtumh2IhTwV",
        "colab_type": "code",
        "colab": {}
      },
      "source": [
        "a_number = int( input(\"Enter a number:\") )\n",
        "another_number = int( input(\"Enter another number:\") )\n",
        "X = a_number + another_number\n",
        "print(X)"
      ],
      "execution_count": null,
      "outputs": []
    },
    {
      "cell_type": "markdown",
      "metadata": {
        "id": "NcLlOxFQhjgt",
        "colab_type": "text"
      },
      "source": [
        "In Python the **int** command (short for integer) tells Python that whatever is inside the parentheses is DEFINITELY and integer and should be treated as such. \n",
        "\n",
        "However, Python gets confused if you **int** command to say something is an integer and then the user types in a word like \"hello\"\n",
        "\n",
        "In the code block below, copy and paste the same Python instructions from the previous block (the one with the int).\n",
        "\n",
        "Then when you run this code block, type in the word \"hello\" when it asks you to Enter a number.\n",
        "\n"
      ]
    },
    {
      "cell_type": "code",
      "metadata": {
        "id": "IVZc85aHh-lL",
        "colab_type": "code",
        "colab": {}
      },
      "source": [
        "#cut and paste stuff here"
      ],
      "execution_count": null,
      "outputs": []
    },
    {
      "cell_type": "markdown",
      "metadata": {
        "id": "yj37tGMWjkds",
        "colab_type": "text"
      },
      "source": [
        "Random Side Note: Python ignores anything after a # symbol on a line of code\n",
        "\n",
        "Programmers call this a \"comment\" because you can write stuff after the # to give information to a future programmer who reads the code ... without confusing Python"
      ]
    },
    {
      "cell_type": "markdown",
      "metadata": {
        "id": "7dMU91zFijJK",
        "colab_type": "text"
      },
      "source": [
        "\n",
        "\n",
        "---\n",
        "\n",
        "\n",
        "\n",
        "---\n",
        "\n",
        "\n",
        "**A PREVIEW OF THINGS TO COME**\n",
        "\n",
        "So we now know how to store values into variables, and we know how to print the value of a variable. \n",
        "\n",
        "The next thing that we will do is to ask questions about variables. \n"
      ]
    },
    {
      "cell_type": "code",
      "metadata": {
        "id": "1E7lz2oijcDj",
        "colab_type": "code",
        "colab": {}
      },
      "source": [
        "age = 62\n",
        "if age > 30:\n",
        "  print(\"You are old\")\n",
        "if age < 15:\n",
        "  print(\"You are young\")"
      ],
      "execution_count": null,
      "outputs": []
    },
    {
      "cell_type": "markdown",
      "metadata": {
        "id": "kpBEBh3jXm9M",
        "colab_type": "text"
      },
      "source": [
        "An if statement allows you to ask a question about a variable\n",
        "\n",
        "Common questions are > greater than, < less than, or == equals\n",
        "\n",
        "Note: Python uses == for the question \"is the variable equal to a particular value\" because the single = sign is used for the \"assign a value to a variable\" command. \n",
        "\n",
        "If the answer to the question in the if statement is true, then the command inside the if statement is run (otherwise the comamnd inside the if statement is ignored)\n",
        "\n",
        "Note that Python requires indentation for the command inside an if statement. We will talk more about this next week, but for now it is good to get used to the fact that the command inside an if statement must have a TAB key press to indent the command.  "
      ]
    },
    {
      "cell_type": "code",
      "metadata": {
        "id": "aH6z7UWKY1KL",
        "colab_type": "code",
        "colab": {}
      },
      "source": [
        "color = input(\"What is your favorie color? \")\n",
        "if color == \"yellow\":\n",
        "  print(\"Hey, Yellow is also my favorite color\")\n",
        "if not color == \"yellow\":\n",
        "  print(\"I guess that is a pretty nice color\")"
      ],
      "execution_count": null,
      "outputs": []
    },
    {
      "cell_type": "markdown",
      "metadata": {
        "id": "2ic7wmx-ZagI",
        "colab_type": "text"
      },
      "source": [
        "In the above code, the word \"not\" is used to ask the question \"Is the color not equal to yellow\"? \n",
        "\n",
        "This means that the command inside the second if statement is run when the color variable is something different from \"yellow\"\n",
        "\n",
        "In the block below, copy the Python code instructions from above into the empty area below. Then change the code to use your favorite color instead of yellow. (If yellow is actually your favorite color, then you are a sophisticated person of incredible taste ... but maybe you can pretend for one day that your favorite color is not yellow)\n",
        "\n",
        "In any case, once you change the Python code, please test it out to see if works. (You probably want to run it several times with different input colors to make sure it is doing what you want it to do.)"
      ]
    },
    {
      "cell_type": "code",
      "metadata": {
        "id": "zKmG3Ow-akUj",
        "colab_type": "code",
        "colab": {}
      },
      "source": [
        ""
      ],
      "execution_count": null,
      "outputs": []
    },
    {
      "cell_type": "markdown",
      "metadata": {
        "id": "6ZdygmEGakr3",
        "colab_type": "text"
      },
      "source": [
        "\n",
        "\n",
        "---\n",
        "\n",
        "\n",
        "\n",
        "---\n",
        "\n",
        "\n",
        "**THIS IS THE END OF THE WORKSHEET**\n",
        "\n",
        "Please find the programming assignment on Canvas so that you can try out what you learned. "
      ]
    }
  ]
}
