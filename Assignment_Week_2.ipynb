{
  "nbformat": 4,
  "nbformat_minor": 0,
  "metadata": {
    "colab": {
      "name": "Assignment Week 2.ipynb",
      "provenance": [],
      "authorship_tag": "ABX9TyPUx0D4UH3fK+5IOYUGArxL",
      "include_colab_link": true
    },
    "kernelspec": {
      "name": "python3",
      "display_name": "Python 3"
    }
  },
  "cells": [
    {
      "cell_type": "markdown",
      "metadata": {
        "id": "view-in-github",
        "colab_type": "text"
      },
      "source": [
        "<a href=\"https://colab.research.google.com/github/mlepinski/Python-Worksheets/blob/master/Assignment_Week_2.ipynb\" target=\"_parent\"><img src=\"https://colab.research.google.com/assets/colab-badge.svg\" alt=\"Open In Colab\"/></a>"
      ]
    },
    {
      "cell_type": "markdown",
      "metadata": {
        "id": "fG0u3wRzPXbX",
        "colab_type": "text"
      },
      "source": [
        "# Assignment - Week 2 - Python Basics\n",
        "\n",
        "In this assignment you will use what you learned from the reading and the worksheet to write your first Python programs. \n",
        "\n",
        "You will be asked to cut and paste your Python code into Canvas to turn in the assignment. (There are better ways to submit Python code, but for the first assignment, I think cut and paste is easiest.)\n",
        "\n",
        "You should save your work to your Google Drive by going to the \"File\" menu (in the upper right-hand corner of the window) and clicking \"Save a copy in Drive\".\n",
        "\n",
        "You can later open your saved work by going to the \"File\" menu and clicking \"Open Notebook\" ... Your recently saved work should be in both the \"Recent\" tab and the \"Google Drive\" Tab"
      ]
    },
    {
      "cell_type": "markdown",
      "metadata": {
        "id": "mSW1_nsqSJvI",
        "colab_type": "text"
      },
      "source": [
        "\n",
        "\n",
        "---\n",
        "\n",
        "\n",
        "\n",
        "---\n",
        "\n",
        "**You are encouraged to talk with your group memebers about this assignment. However, everyone must type their own Python code!**"
      ]
    },
    {
      "cell_type": "markdown",
      "metadata": {
        "id": "6eXVpIsdQfMN",
        "colab_type": "text"
      },
      "source": [
        "\n",
        "\n",
        "---\n",
        "\n",
        "\n",
        "\n",
        "---\n",
        "\n",
        "**PROGRAMMING PROBLEMS**\n",
        "\n",
        "0) It is a long-standing tradition that the first program that a programmer writes in any language is Hello World. Write a simple program that prints the words Hello World.\n",
        "\n",
        "1) Write Python code that stores the numbers 3, 4 and 6 in three different variables and then prints the sum of these three numbers\n",
        "\n",
        "2) Write Python code that asks the user to enter three numbers and then prints the sum of those three numbers. (The result that you get when you add three numbers is called the \"sum\" of the three numbers.)\n",
        "\n",
        "3) Write Python code that asks the user for their first name, their last name and their age and then prints a message like the following:\n",
        "\n",
        "Dylan Lepinski is 12 years old!\n",
        "\n",
        "4) Write a program that asks the user for their name and then prints a birthday greeting. You can use whatever birthday greeting you like, but the greeting must include the person's name. I would encourage you to be creative, but if you can't think of anything you can always use an old classic like:\n",
        "\n",
        "Happy Birthday to You, Happy Birthday to You, Happy Birthday Dear Alice, Happy Birthday to You!\n",
        "\n",
        "\n",
        "\n",
        "---\n",
        "\n",
        "\n",
        "\n",
        "---\n",
        "\n",
        "**I expect you to complete problems 0 - 4. You aren't required to complete the last couple problems, but I would strongly encourage you to try them out!**\n",
        "\n",
        "5) Write a program that asks the user for their name and then asks the user whether it is their birthday. If the user says, \"yes\", when asked if it is their birthday, then the program should print them a birthday greeting.\n",
        "\n",
        "6) Write a program that asks the user to enter two numbers and then prints the difference between the larger number and the smaller number. (That is, the larger number minus the smaller number)\n",
        "\n",
        "7) Write a program that asks the user what the number is in their New College email address, and then tells them what year they entered New College. \n",
        "\n",
        "Students that entered in 2020 have either a 23 or a 24 in their email\n",
        "Students that entered in 2019 have a 19 in their email\n",
        "Students that entered in 2018 have an 18 in their email\n",
        "Students that entered in 2017 have a 17 in their email\n",
        "... This pattern continues for students who entered before 2017\n",
        "\n"
      ]
    },
    {
      "cell_type": "code",
      "metadata": {
        "id": "7ly5GpPgQe5t",
        "colab_type": "code",
        "colab": {}
      },
      "source": [
        ""
      ],
      "execution_count": null,
      "outputs": []
    }
  ]
}