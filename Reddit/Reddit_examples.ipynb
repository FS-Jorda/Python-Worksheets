{
  "nbformat": 4,
  "nbformat_minor": 0,
  "metadata": {
    "colab": {
      "name": "Reddit examples.ipynb",
      "provenance": [],
      "authorship_tag": "ABX9TyNfiS9IiTXtautiZ/mWKWlD",
      "include_colab_link": true
    },
    "kernelspec": {
      "name": "python3",
      "display_name": "Python 3"
    }
  },
  "cells": [
    {
      "cell_type": "markdown",
      "metadata": {
        "id": "view-in-github",
        "colab_type": "text"
      },
      "source": [
        "<a href=\"https://colab.research.google.com/github/mlepinski/Python-Worksheets/blob/master/Reddit/Reddit_examples.ipynb\" target=\"_parent\"><img src=\"https://colab.research.google.com/assets/colab-badge.svg\" alt=\"Open In Colab\"/></a>"
      ]
    },
    {
      "cell_type": "markdown",
      "metadata": {
        "id": "u3S6HMkslrx5"
      },
      "source": [
        "To work with Reddit data, you first need a Reddit account and you also need to register a developer script (Python application) with Reddit. I have already done this for you. We will all use the same id and secret for this assignment.\n",
        "\n",
        "Next, we need to import PRAW which is a package for dealing with Reddit data. PRAW isn't installed by default with Google Collab, so I am first giving Google Collab the instruction to install PRAW. \n",
        "\n",
        "Once we have installed PRAW, we can use if throughout the rest of this notebook."
      ]
    },
    {
      "cell_type": "code",
      "metadata": {
        "id": "jU_NvZ4BUyqM"
      },
      "source": [
        "!pip install -q praw\n",
        "import praw"
      ],
      "execution_count": 3,
      "outputs": []
    },
    {
      "cell_type": "markdown",
      "metadata": {
        "id": "2rN5MMB7mSUB"
      },
      "source": [
        "Now that we have PRAW, we need to connect to reddit. This returns a reddit object in Python. We will give commands to this object in order to get data from reddit. \n",
        "\n",
        "Note: These examples are read-only (no posting to reddit). In order to post to reddit you need to also login with a username and password. (The PRAW documentation explains how to do this, but you shouldn't need that for this project)"
      ]
    },
    {
      "cell_type": "code",
      "metadata": {
        "colab": {
          "base_uri": "https://localhost:8080/"
        },
        "id": "XVZzGNpumoeR",
        "outputId": "7636d66f-8004-4685-da25-a7e58c3489ec"
      },
      "source": [
        "import praw\n",
        "\n",
        "reddit = praw.Reddit(client_id=\"f2Vk50qzGXHk2g\", client_secret=\"z00N7V1BCBM4p8nOC3FKNMJ3zcIJkA\", user_agent=\"NCF intro Python - http://www.github.com/mlepinski/Python-Worksheets\" )\n",
        "\n",
        "print(reddit.read_only)"
      ],
      "execution_count": 7,
      "outputs": [
        {
          "output_type": "stream",
          "text": [
            "True\n"
          ],
          "name": "stdout"
        }
      ]
    },
    {
      "cell_type": "markdown",
      "metadata": {
        "id": "4xWR0hE6oMEB"
      },
      "source": [
        "Let's go to /r/catswithjobs"
      ]
    },
    {
      "cell_type": "code",
      "metadata": {
        "colab": {
          "base_uri": "https://localhost:8080/"
        },
        "id": "MDWvwTrGoVIY",
        "outputId": "0c7bc80f-c622-4d76-fc57-38486fa4867c"
      },
      "source": [
        "subreddit = reddit.subreddit(\"catswithjobs\")\n",
        "\n",
        "print(subreddit.display_name)  # output: redditdev\n",
        "print(subreddit.title)         # output: reddit development\n",
        "print(subreddit.description)   # output: a subreddit for discussion of ..."
      ],
      "execution_count": 9,
      "outputs": [
        {
          "output_type": "stream",
          "text": [
            "catswithjobs\n",
            "Purposeful Pusses\n",
            "Welcome to Catswithjobs!\n",
            "Kitties working hard, and hardly working\n",
            "\n",
            "Friends:\n",
            "/r/DogsWithJobs\n",
            "/r/horseswithjobs\n"
          ],
          "name": "stdout"
        }
      ]
    },
    {
      "cell_type": "markdown",
      "metadata": {
        "id": "fucBhpyIobO4"
      },
      "source": [
        "You can find more information in the PRAW quickstart guide: https://praw.readthedocs.io/en/v2.0.15/pages/getting_started.html"
      ]
    }
  ]
}