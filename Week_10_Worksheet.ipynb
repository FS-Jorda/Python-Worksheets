{
  "nbformat": 4,
  "nbformat_minor": 0,
  "metadata": {
    "colab": {
      "name": "Week 10 Worksheet.ipynb",
      "provenance": [],
      "authorship_tag": "ABX9TyMD6ltaZZaQIgC5St7g5Ee4",
      "include_colab_link": true
    },
    "kernelspec": {
      "name": "python3",
      "display_name": "Python 3"
    }
  },
  "cells": [
    {
      "cell_type": "markdown",
      "metadata": {
        "id": "view-in-github",
        "colab_type": "text"
      },
      "source": [
        "<a href=\"https://colab.research.google.com/github/mlepinski/Python-Worksheets/blob/master/Week_10_Worksheet.ipynb\" target=\"_parent\"><img src=\"https://colab.research.google.com/assets/colab-badge.svg\" alt=\"Open In Colab\"/></a>"
      ]
    },
    {
      "cell_type": "markdown",
      "metadata": {
        "id": "n32EEhJZkkcf"
      },
      "source": [
        "**FILES IN PYTHON**\n",
        "\n",
        "I wanted to provide a couple examples of working with external files in Python. \n",
        "\n",
        "Our focus this week will be when we want Python to do something to help us process external data files. \n",
        "\n",
        "We are going to talk about two kinds of files. Text files and CSV (Comma Separated Value) files. Text files are more common and so we will look at them first. CSV files are a way of sharing scientific data in a spreadsheet-like format with rows and columns. CSV files are used a lot when data is available for download on the Internet.  \n",
        "\n",
        "We will have fun with text files today and do more with CSV files in next week's Worksheet."
      ]
    },
    {
      "cell_type": "markdown",
      "metadata": {
        "id": "4wZCFsiuWiz8"
      },
      "source": [
        "\n",
        "\n",
        "---\n",
        "\n",
        "\n",
        "\n",
        "---\n",
        "\n",
        "\n",
        "\n",
        "\n",
        "**OPENING FILES**\n",
        "\n",
        "In order to use a file a Python, you first need to open it. \n",
        "\n",
        "To grab a file from the Internet (e.g. Github) that lives on a different computer, we import the package urllib as in the example below. \n",
        "\n",
        "Note: A URL is a Uniform Resource Locator that identifies a website, file or other resource on the Internet. (You probably see these frequently at the top of your web browser window). Urllib in Python is a package that provides a bunch of functions/commands for dealing with URLs and the Internet. \n",
        "\n",
        "Note: If you have downloaded Python and are running it on your local machine, you can also use the **open** command to open a local file on your machine. "
      ]
    },
    {
      "cell_type": "code",
      "metadata": {
        "id": "dZXZyJZnkdbo"
      },
      "source": [
        "import urllib.request\n",
        "\n",
        "file_name = \"https://raw.githubusercontent.com/mlepinski/Python-Worksheets/master/Sonnets.txt\"\n",
        "my_file = urllib.request.urlopen(file_name)\n",
        "\n",
        "#If we running Python on our Machine and wanted to open a local file\n",
        "#We could use the open command below\n",
        "\n",
        "#local_file_name = \"Sonnets.txt\"\n",
        "#my_file = open(local_file_name)\n",
        "\n",
        "#The above commands only work if Sonnets.txt is in the same folder on your machine as the .py file with your Python program"
      ],
      "execution_count": null,
      "outputs": []
    },
    {
      "cell_type": "markdown",
      "metadata": {
        "id": "uqjoyIVmaEd3"
      },
      "source": [
        "In the example above, I just went to the file that I wanted in Github, clicked the \"raw\" button on upper-right part of the Github page, and then compied the URL from my web browser. The reason that I needed to click \"raw\" is because I wanted the \"raw\" text of the file without the other Github stuff that appears on the webpage. \n",
        "\n",
        "So what does this do? At the moment not much\n",
        "\n",
        "This code opens a file and creates a file object that is stored in the variable my_file. A file object is just an abstract blob that represents a file in Python. \n",
        "\n",
        "\n",
        "\n",
        "---\n",
        "\n",
        "\n",
        "\n",
        "---\n",
        "\n",
        "**LINE BY LINE**\n",
        "\n",
        "\n",
        "Typically, when you have a file object you will want to do one of two things, go through it line-by-line or read the entire file. \n",
        "\n",
        "You can use a **for** loop to go through a file line-by-line. Just like a **for** loop lets you do something once for every item in a list, a **for** loop can also let you do something once for every line a file. "
      ]
    },
    {
      "cell_type": "code",
      "metadata": {
        "id": "k8YKb-DyaDxx"
      },
      "source": [
        "import urllib.request\n",
        "\n",
        "file_name = \"https://raw.githubusercontent.com/mlepinski/Python-Worksheets/master/Sonnets.txt\"\n",
        "my_file = urllib.request.urlopen(file_name)\n",
        "\n",
        "favorite_lines = []\n",
        "\n",
        "for line in my_file:\n",
        "  line = line.decode(\"utf-8\")\n",
        "  if \"monuments\" in line:\n",
        "    favorite_lines.append(line)\n",
        "\n",
        "print(favorite_lines)"
      ],
      "execution_count": null,
      "outputs": []
    },
    {
      "cell_type": "markdown",
      "metadata": {
        "id": "Rec3zrRCd-nq"
      },
      "source": [
        "So the above code goes line by line through the file and identifies any line that contains the word \"monumets\" and adds that to a list of favorite lines. \n",
        "\n",
        "The weird **decode** command is needed because when you grab files off the Internet, they are typically using the \"classic\" (old fashioned) ASCII format that only works for English and certain similar European languages. (The history of the Internet has a strong bias towards English and western Europe.) Modern Python strings instead use UTF-8 (unicode) which is awesome because it can represent text from any language. The **decode** command takes the old format ASCII stuff from the web and transforms it into modern UTF-8 ... that is, it makes a normal Python string. \n",
        "\n",
        "\n",
        "---\n",
        "\n",
        "\n",
        "At the end you can see that there was only one line in the entire file that contained the word \"monuments\". \n",
        "\n",
        "You will also see a weird /n at the end when you print the favorite lines. The /n is just the standard Python marker for \"end of line\". It is how computers encode pressing the enter key. (Without having these /n markers in a file, Python and other computer programs wouldn't know when to go to the next line.)\n",
        "\n",
        "Try changing the word \"monuments\" to something else and you can see that some words appear in many lines. \n",
        "\n",
        "In particular \"war\" appears in a whole bunch of lines. I wonder how many lines contain the word \"war\"?"
      ]
    },
    {
      "cell_type": "code",
      "metadata": {
        "id": "z01YY__ueocg"
      },
      "source": [
        "import urllib.request\n",
        "\n",
        "file_name = \"https://raw.githubusercontent.com/mlepinski/Python-Worksheets/master/Sonnets.txt\"\n",
        "my_file = urllib.request.urlopen(file_name)\n",
        "\n",
        "line_count = 0\n",
        "\n",
        "for line in my_file:\n",
        "  line = line.decode(\"utf-8\")\n",
        "  if \"monuments\" in line:\n",
        "    line_count = line_count + 1\n",
        "\n",
        "print(line_count)"
      ],
      "execution_count": null,
      "outputs": []
    },
    {
      "cell_type": "markdown",
      "metadata": {
        "id": "foGzafKMgTyF"
      },
      "source": [
        "So the above code once again tells us that **monuments** only appears once in the entire file. \n",
        "\n",
        "If you go back and change \"monuments\" to \"war\", you can see that \"war\" appears 39 times in the file. \n",
        "\n",
        "Although there is a bit of a problem here, when you ask Python to find \"war\" in a line, Python will see a line like: \n",
        "\n",
        "\"And see thy blood warm when thou feel'st it cold.\\n\"\n",
        "\n",
        "... and see that \"war\" is part of \"warm\" and so the if statement that asks:\n",
        "\n",
        "**if \"war\" in line:**\n",
        "\n",
        "This if statement will answer \"Yes\" if it seems the previous line about warm blood. "
      ]
    },
    {
      "cell_type": "code",
      "metadata": {
        "id": "93XrpERzhcuv"
      },
      "source": [
        "line = \"And see thy blood warm when thou feel'st it cold.\\n\"\n",
        "\n",
        "if \"war\" in line:\n",
        "  print(\"I found 'war' in the line of text\")"
      ],
      "execution_count": null,
      "outputs": []
    },
    {
      "cell_type": "markdown",
      "metadata": {
        "id": "HRJcNwhXh4PO"
      },
      "source": [
        "\n",
        "\n",
        "---\n",
        "\n",
        "\n",
        "\n",
        "---\n",
        "\n",
        "**LOOKING AT INDIVIDUAL WORDS**\n",
        "\n",
        "Instead of thinking of a file as a collection of lines, we can also think of a file as a collection of words. \n",
        "\n",
        "In the following examples, we are going to read the entire file into a very long string and then do stuff with the stirng. This works as long as your computer has plenty of memory and the file isn't too big. Fortunately, modern computers are able to work with strings that are many Megabytes of text. (It is hard to find text files that are many Gigabytes of text ... but if you ever find such a monster file, going through line by line is probably your only option.)\n",
        "\n",
        "In the next example, we use the **read** command to grab the entire contents of a file and put it into a long string. We probably don't want to print the whole string, let's instead check what words are present ...\n",
        "\n",
        "\n"
      ]
    },
    {
      "cell_type": "code",
      "metadata": {
        "id": "FzxE47hMjxY6",
        "outputId": "00197ba6-0041-460b-d14c-f29d5da8593e",
        "colab": {
          "base_uri": "https://localhost:8080/",
          "height": 50
        }
      },
      "source": [
        "import urllib.request\n",
        "\n",
        "file_name = \"https://raw.githubusercontent.com/mlepinski/Python-Worksheets/master/Sonnets.txt\"\n",
        "my_file = urllib.request.urlopen(file_name)\n",
        "\n",
        "long_string = my_file.read()\n",
        "long_string = long_string.decode(\"utf-8\")\n",
        "\n",
        "if \"monuments\" in long_string:\n",
        "  print(\"Good, Monuments is present like it should be\")\n",
        "\n",
        "if \"lepinski\" in long_string:\n",
        "  print(\"Oh No, lepinski shouldn't be in that Sonnet file\")\n",
        "else:\n",
        "  print(\"lepinski is missing, as it should be\")\n",
        "\n"
      ],
      "execution_count": 11,
      "outputs": [
        {
          "output_type": "stream",
          "text": [
            "Good, Monuments is present like it should be\n",
            "lepinski is missing, as it should be\n"
          ],
          "name": "stdout"
        }
      ]
    },
    {
      "cell_type": "markdown",
      "metadata": {
        "id": "dv-3p6wOh4LA"
      },
      "source": [
        "Okay, let's print the string just to see what happens ..."
      ]
    },
    {
      "cell_type": "code",
      "metadata": {
        "id": "tUjkOCaMhPe-"
      },
      "source": [
        "import urllib.request\n",
        "\n",
        "file_name = \"https://raw.githubusercontent.com/mlepinski/Python-Worksheets/master/Sonnets.txt\"\n",
        "my_file = urllib.request.urlopen(file_name)\n",
        "\n",
        "long_string = my_file.read()\n",
        "long_string = long_string.decode(\"utf-8\")\n",
        "\n",
        "print(long_string)"
      ],
      "execution_count": null,
      "outputs": []
    },
    {
      "cell_type": "markdown",
      "metadata": {
        "id": "hltYWODnklv-"
      },
      "source": [
        "It worked, but that is really long!\n",
        "\n",
        "So if we are just looking for words, we might not care about the line breaks anymore. We can ask Python to replace all of the line breaks with spaces.\n",
        "\n",
        "(We could also replace line breaks with \"!\" or \"X\" or anything else, but I think spaces will be best for now)"
      ]
    },
    {
      "cell_type": "code",
      "metadata": {
        "id": "4O2LTSiMklCF"
      },
      "source": [
        "import urllib.request\n",
        "\n",
        "file_name = \"https://raw.githubusercontent.com/mlepinski/Python-Worksheets/master/Sonnets.txt\"\n",
        "my_file = urllib.request.urlopen(file_name)\n",
        "\n",
        "long_string = my_file.read()\n",
        "long_string = long_string.decode(\"utf-8\")\n",
        "\n",
        "no_line_breaks = long_string.replace(\"\\n\", \" \")\n",
        "\n",
        "print(no_line_breaks)"
      ],
      "execution_count": null,
      "outputs": []
    },
    {
      "cell_type": "markdown",
      "metadata": {
        "id": "20RhGh5Rk_nf"
      },
      "source": [
        "In general the **replace** command in Python takes all instances of a given character/letter/symbol in a string and replaces it with something of your choice. \n",
        "\n",
        "For example, we could replace every \"e\" with \"Z\" as follows:"
      ]
    },
    {
      "cell_type": "code",
      "metadata": {
        "id": "RtX5hlWbk6rj"
      },
      "source": [
        "import urllib.request\n",
        "\n",
        "file_name = \"https://raw.githubusercontent.com/mlepinski/Python-Worksheets/master/Sonnets.txt\"\n",
        "my_file = urllib.request.urlopen(file_name)\n",
        "\n",
        "long_string = my_file.read()\n",
        "long_string = long_string.decode(\"utf-8\")\n",
        "\n",
        "no_line_breaks = long_string.replace(\"\\n\", \" \")\n",
        "\n",
        "new_string = no_line_breaks.replace(\"e\", \"Z\")\n",
        "\n",
        "print(new_string)"
      ],
      "execution_count": null,
      "outputs": []
    },
    {
      "cell_type": "markdown",
      "metadata": {
        "id": "AvyIIQGoln0q"
      },
      "source": [
        "Okay, that was a bit foolish, but it shows how Python can easily make replacements in a string. \n",
        "\n",
        "If we are interested in working with individual words, we can have Python split the string up into a list of words:"
      ]
    },
    {
      "cell_type": "code",
      "metadata": {
        "id": "qyvnrY0ZmB5w"
      },
      "source": [
        "import urllib.request\n",
        "\n",
        "file_name = \"https://raw.githubusercontent.com/mlepinski/Python-Worksheets/master/Sonnets.txt\"\n",
        "my_file = urllib.request.urlopen(file_name)\n",
        "\n",
        "long_string = my_file.read()\n",
        "long_string = long_string.decode(\"utf-8\")\n",
        "\n",
        "no_line_breaks = long_string.replace(\"\\n\", \" \")\n",
        "\n",
        "list_of_words = no_line_breaks.split()\n",
        "\n",
        "print(list_of_words)"
      ],
      "execution_count": null,
      "outputs": []
    },
    {
      "cell_type": "markdown",
      "metadata": {
        "id": "VLOkrU8gmNx8"
      },
      "source": [
        "The **split** command in Python is powerful. By default it splits a string into words by breaking everything it sees whitespace. (That is, spaces, tabs, new lines). We will see next week that we can also split at a comma (or other deliminator) by putting \",\" in parentheses as an input to the **split** command. \n",
        "\n",
        "Once we have a list of words, we can easily count how many times \"war\" appears in the sonnet file. "
      ]
    },
    {
      "cell_type": "code",
      "metadata": {
        "id": "6fw10U-umyDS"
      },
      "source": [
        "import urllib.request\n",
        "\n",
        "file_name = \"https://raw.githubusercontent.com/mlepinski/Python-Worksheets/master/Sonnets.txt\"\n",
        "my_file = urllib.request.urlopen(file_name)\n",
        "\n",
        "long_string = my_file.read()\n",
        "long_string = long_string.decode(\"utf-8\")\n",
        "\n",
        "no_line_breaks = long_string.replace(\"\\n\", \" \")\n",
        "\n",
        "list_of_words = no_line_breaks.split()\n",
        "\n",
        "word_count = 0 \n",
        "\n",
        "for word in list_of_words:\n",
        "  if word == \"war\":\n",
        "    word_count = word_count + 1\n",
        "\n",
        "print(\"The word war appears\", word_count, \"times in the file\")"
      ],
      "execution_count": null,
      "outputs": []
    },
    {
      "cell_type": "markdown",
      "metadata": {
        "id": "ChhFom_TnCfj"
      },
      "source": [
        ""
      ]
    }
  ]
}