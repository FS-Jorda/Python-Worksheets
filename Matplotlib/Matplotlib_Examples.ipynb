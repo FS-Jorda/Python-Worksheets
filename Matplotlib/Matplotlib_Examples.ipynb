{
  "nbformat": 4,
  "nbformat_minor": 0,
  "metadata": {
    "colab": {
      "name": "Matplotlib Examples.ipynb",
      "provenance": [],
      "authorship_tag": "ABX9TyMRgSlIkqmK83Ei/VpbnltV",
      "include_colab_link": true
    },
    "kernelspec": {
      "name": "python3",
      "display_name": "Python 3"
    }
  },
  "cells": [
    {
      "cell_type": "markdown",
      "metadata": {
        "id": "view-in-github",
        "colab_type": "text"
      },
      "source": [
        "<a href=\"https://colab.research.google.com/github/mlepinski/Python-Worksheets/blob/master/Matplotlib/Matplotlib_Examples.ipynb\" target=\"_parent\"><img src=\"https://colab.research.google.com/assets/colab-badge.svg\" alt=\"Open In Colab\"/></a>"
      ]
    },
    {
      "cell_type": "markdown",
      "metadata": {
        "id": "7dhc0gp2z9ut"
      },
      "source": [
        "We saw previously that we can use Pandas to do calculations with Spreadsheet data. \n",
        "\n",
        "Matplot lib is a Python package that works great in tandom with Pandas for graphing or plotting data.\n",
        "\n",
        "To save typing, folks often use the \"as\" in an import to give a shorter name to a package that they are importing\n",
        "\n",
        "It is much easier to type plt than to type matplotlib.pyplot"
      ]
    },
    {
      "cell_type": "code",
      "metadata": {
        "colab": {
          "base_uri": "https://localhost:8080/",
          "height": 195
        },
        "id": "nJPiUgeSz2FR",
        "outputId": "94b7bb90-0654-4af3-ad3d-fa0ee0d71676"
      },
      "source": [
        "import pandas\n",
        "import matplotlib.pyplot as plt\n",
        "\n",
        "file_name = \"https://raw.githubusercontent.com/mlepinski/Python-Worksheets/master/states.csv\"\n",
        "state_data = pandas.read_csv(file_name)\n",
        "\n",
        "state_data.head()\n",
        "\n"
      ],
      "execution_count": 1,
      "outputs": [
        {
          "output_type": "execute_result",
          "data": {
            "text/html": [
              "<div>\n",
              "<style scoped>\n",
              "    .dataframe tbody tr th:only-of-type {\n",
              "        vertical-align: middle;\n",
              "    }\n",
              "\n",
              "    .dataframe tbody tr th {\n",
              "        vertical-align: top;\n",
              "    }\n",
              "\n",
              "    .dataframe thead th {\n",
              "        text-align: right;\n",
              "    }\n",
              "</style>\n",
              "<table border=\"1\" class=\"dataframe\">\n",
              "  <thead>\n",
              "    <tr style=\"text-align: right;\">\n",
              "      <th></th>\n",
              "      <th>Name</th>\n",
              "      <th>State</th>\n",
              "      <th>Area</th>\n",
              "      <th>Pop</th>\n",
              "    </tr>\n",
              "  </thead>\n",
              "  <tbody>\n",
              "    <tr>\n",
              "      <th>0</th>\n",
              "      <td>Alabama</td>\n",
              "      <td>AL</td>\n",
              "      <td>52423</td>\n",
              "      <td>4040587</td>\n",
              "    </tr>\n",
              "    <tr>\n",
              "      <th>1</th>\n",
              "      <td>Alaska</td>\n",
              "      <td>AK</td>\n",
              "      <td>656424</td>\n",
              "      <td>550043</td>\n",
              "    </tr>\n",
              "    <tr>\n",
              "      <th>2</th>\n",
              "      <td>Arizona</td>\n",
              "      <td>AZ</td>\n",
              "      <td>114006</td>\n",
              "      <td>3665228</td>\n",
              "    </tr>\n",
              "    <tr>\n",
              "      <th>3</th>\n",
              "      <td>Arkansas</td>\n",
              "      <td>AR</td>\n",
              "      <td>53182</td>\n",
              "      <td>2350725</td>\n",
              "    </tr>\n",
              "    <tr>\n",
              "      <th>4</th>\n",
              "      <td>California</td>\n",
              "      <td>CA</td>\n",
              "      <td>163707</td>\n",
              "      <td>29769021</td>\n",
              "    </tr>\n",
              "  </tbody>\n",
              "</table>\n",
              "</div>"
            ],
            "text/plain": [
              "         Name State    Area       Pop\n",
              "0     Alabama    AL   52423   4040587\n",
              "1      Alaska    AK  656424    550043\n",
              "2     Arizona    AZ  114006   3665228\n",
              "3    Arkansas    AR   53182   2350725\n",
              "4  California    CA  163707  29769021"
            ]
          },
          "metadata": {
            "tags": []
          },
          "execution_count": 1
        }
      ]
    },
    {
      "cell_type": "markdown",
      "metadata": {
        "id": "FR8J0cwH6EaN"
      },
      "source": [
        "Now let's do a scatter plot of Area and Population:"
      ]
    },
    {
      "cell_type": "code",
      "metadata": {
        "id": "E9Y6GL0s6KZj"
      },
      "source": [
        "import pandas\n",
        "import matplotlib.pyplot as plt\n",
        "\n",
        "file_name = \"https://raw.githubusercontent.com/mlepinski/Python-Worksheets/master/states.csv\"\n",
        "state_data = pandas.read_csv(file_name)\n",
        "\n",
        "state_data.plot(x = \"Area\", y = \"Pop\", kind = \"scatter\")\n",
        "plt.show()\n"
      ],
      "execution_count": null,
      "outputs": []
    },
    {
      "cell_type": "markdown",
      "metadata": {
        "id": "n-Z-6qkR6ZDq"
      },
      "source": [
        "You can look at the official matplotlib documentation here: https://matplotlib.org/\n",
        "\n",
        "There are also some more simple examples here: https://datatofish.com/plot-dataframe-pandas/\n",
        "\n",
        "Below we have the file names (the URLs) for the Covid Polling data"
      ]
    },
    {
      "cell_type": "code",
      "metadata": {
        "id": "jShQ2eq27KyM"
      },
      "source": [
        "covid_polls = \"https://raw.githubusercontent.com/mlepinski/Python-Worksheets/master/Matplotlib/Data/covid_concern_polls.csv\"\n",
        "covid_approval_polls = \"https://raw.githubusercontent.com/mlepinski/Python-Worksheets/master/Matplotlib/Data/covid_approval_polls.csv\"\n",
        "\n",
        "covid_poll_data = pandas.read_csv(covid_polls)"
      ],
      "execution_count": 5,
      "outputs": []
    }
  ]
}