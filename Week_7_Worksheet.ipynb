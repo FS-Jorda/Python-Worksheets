{
  "nbformat": 4,
  "nbformat_minor": 0,
  "metadata": {
    "colab": {
      "name": "Week 7 Worksheet.ipynb",
      "provenance": [],
      "authorship_tag": "ABX9TyMr2e0Aoqna904IeN1eQJPi",
      "include_colab_link": true
    },
    "kernelspec": {
      "name": "python3",
      "display_name": "Python 3"
    }
  },
  "cells": [
    {
      "cell_type": "markdown",
      "metadata": {
        "id": "view-in-github",
        "colab_type": "text"
      },
      "source": [
        "<a href=\"https://colab.research.google.com/github/mlepinski/Python-Worksheets/blob/master/Week_7_Worksheet.ipynb\" target=\"_parent\"><img src=\"https://colab.research.google.com/assets/colab-badge.svg\" alt=\"Open In Colab\"/></a>"
      ]
    },
    {
      "cell_type": "markdown",
      "metadata": {
        "id": "v60spOYo9rjb"
      },
      "source": [
        "**STRINGS AND SUCH**\n",
        "\n",
        "We have previously seen strings in Python. Today we are going to look at some more complicated things that you can do with strings. \n",
        "\n",
        "A string is just a sequence of characters. Each character can be a letter, like \"a\" or \"A\", a digit like \"3\" or \"4\", a space \" \", or a symbol like \"!\" or \"&\"\n",
        "\n",
        "In Python, strings can be written using either double quotes or single quotes. Both of them work perfectly fine. "
      ]
    },
    {
      "cell_type": "code",
      "metadata": {
        "id": "j1oL0t0L9kVc"
      },
      "source": [
        "word1 = \"cat\"\n",
        "word2 = 'cat'\n",
        "if word1 == word2:\n",
        "  print(\"Python doesn't care whether you use single-quotes or double-quotes\")\n",
        "  print(\"Either way, you get the same string\")"
      ],
      "execution_count": null,
      "outputs": []
    },
    {
      "cell_type": "markdown",
      "metadata": {
        "id": "Dr1-pW-j-HgE"
      },
      "source": [
        "Python does care about upper-case versus lower-case. \n",
        "\n",
        "The following two strings are NOT the same."
      ]
    },
    {
      "cell_type": "code",
      "metadata": {
        "id": "QTOBRGGf-q1D"
      },
      "source": [
        "word1 = \"cat\"\n",
        "word2 = \"CAT\"\n",
        "if word1 == word2:\n",
        "  print(\"The strings are the same\")\n",
        "else:\n",
        "  print(\"The strings are different\")"
      ],
      "execution_count": null,
      "outputs": []
    },
    {
      "cell_type": "markdown",
      "metadata": {
        "id": "0IIzamyO-hLC"
      },
      "source": [
        "Often, we don't want to care about capitalization, and so it can be helpful to convert everything to lower-case before we start using the string in our program.\n",
        "\n",
        "The dot command VARIABLE_NAME.lower() command in Python will create a new version of the string which is all lower-case. "
      ]
    },
    {
      "cell_type": "code",
      "metadata": {
        "id": "wg4h9SuO_Jbi"
      },
      "source": [
        "word1 = \"cat\"\n",
        "word1 = word1.lower()\n",
        "\n",
        "word2 = \"CAT\"\n",
        "word2 = word2.lower()\n",
        "\n",
        "if word1 == word2:\n",
        "  print(\"The strings are the same\")\n",
        "else:\n",
        "  print(\"The strings are different\")"
      ],
      "execution_count": null,
      "outputs": []
    },
    {
      "cell_type": "markdown",
      "metadata": {
        "id": "F7XS6dCO_SyD"
      },
      "source": [
        "In the above example, we use the command: \n",
        "\n",
        "word1 = word1.lower()\n",
        "\n",
        "To tell Python to make a lower-case version of the string word1 and then change the variable word1 to be this new lower-case version. \n",
        "\n",
        "NOTE: Based on your work with lists last week, this might seem a bit strange. With lists, when you append to a list you automatically change the list inside the variable ... You don't need to use the = sign to change what is in the variable. Instead the change happens automatically.\n"
      ]
    },
    {
      "cell_type": "code",
      "metadata": {
        "id": "AS4376tz_gwt"
      },
      "source": [
        "list1 = [\"apples\", \"oranges\", \"banana\"]\n",
        "list1.append(\"berry\")\n",
        "\n",
        "print(list1)\n",
        "\n",
        "word1 = \"FRUIT\"\n",
        "word1 = word1.lower()\n",
        "\n",
        "print(word1)"
      ],
      "execution_count": null,
      "outputs": []
    },
    {
      "cell_type": "markdown",
      "metadata": {
        "id": "k8yer5MNBnPd"
      },
      "source": [
        "The upper() and lower() commands are especially useful when you are working with input from the keyboard. \n",
        "\n",
        "Sometimes users will capitalize a word and sometimes they won't. Therefore, it is nice to be able to force everything they type to be lowercase so you don't need multiple if statements. "
      ]
    },
    {
      "cell_type": "code",
      "metadata": {
        "id": "QCvK-16pB_2e"
      },
      "source": [
        "word = input(\"Enter a word: \")\n",
        "word = word.lower()\n",
        "\n",
        "if word == \"olive\":\n",
        "  print(\"Yuck, why would anyone type Olives?!?\")\n",
        "else:\n",
        "  print(\"That is a good word\")"
      ],
      "execution_count": null,
      "outputs": []
    },
    {
      "cell_type": "markdown",
      "metadata": {
        "id": "iH7F4LRBCOm6"
      },
      "source": [
        "Because we convert everything to lowercase, this program works correclty even if the user types \"Olive\" or \"OLIVE\"or \"OlIvE\"\n",
        "\n",
        "\n"
      ]
    },
    {
      "cell_type": "markdown",
      "metadata": {
        "id": "-9ARAELvChkp"
      },
      "source": [
        "\n",
        "\n",
        "\n",
        "---\n",
        "\n",
        "\n",
        "---\n",
        "\n",
        "**CHECKING CHARACTERS IN A STRING**\n",
        "\n",
        "Just like with lists, you can use the \"in\" question in Python to check and see if a particular character is in a list. \n",
        "\n",
        "\n"
      ]
    },
    {
      "cell_type": "code",
      "metadata": {
        "id": "IruaslYXC7d0"
      },
      "source": [
        "word = input(\"Enter a word: \")\n",
        "word = word.upper()\n",
        "\n",
        "if \"M\" in word:\n",
        "  print(\"The word\", word, \"contains the letter M\")\n",
        "else:\n",
        "  print(\"The word\", word, \"does not contain the letter M\")\n"
      ],
      "execution_count": null,
      "outputs": []
    },
    {
      "cell_type": "markdown",
      "metadata": {
        "id": "-IdIlD1ODKDI"
      },
      "source": [
        "Here is another example:"
      ]
    },
    {
      "cell_type": "code",
      "metadata": {
        "id": "fRTTQBtFDUga"
      },
      "source": [
        "letter = input(\"Enter a single letter: \")\n",
        "letter = letter.lower()\n",
        "\n",
        "if letter in \"supercalifragilisticexpialidocious\":\n",
        "  print(\"The letter\", letter, \"is in supercalifragilisticexpialidocious\")\n",
        "else:\n",
        "  print(\"The letter\", letter, \"is not in supercalifragilisticexpialidocious\")"
      ],
      "execution_count": null,
      "outputs": []
    },
    {
      "cell_type": "markdown",
      "metadata": {
        "id": "Rfw2UWC5EGk1"
      },
      "source": [
        "You can also use the \"in\" question in Python to see if a short string is part of a large string. "
      ]
    },
    {
      "cell_type": "code",
      "metadata": {
        "id": "2xqmLAlrEVOq"
      },
      "source": [
        "short_word1 = \"cat\"\n",
        "short_word2 = \"pill\"\n",
        "short_word3 = \"pillow\"\n",
        "\n",
        "long_word = \"caterpillar\"\n",
        "\n",
        "if short_word1 in long_word:\n",
        "  print(\"The word\", short_word1, \"is part of\", long_word)\n",
        "else:\n",
        "  print(\"The word\", short_word1, \"is not found in\", long_word)\n",
        "\n",
        "if short_word2 in long_word:\n",
        "  print(\"The word\", short_word2, \"is part of\", long_word)\n",
        "else:\n",
        "  print(\"The word\", short_word2, \"is not found in\", long_word)\n",
        "\n",
        "if short_word3 in long_word:\n",
        "  print(\"The word\", short_word3, \"is part of\", long_word)\n",
        "else:\n",
        "  print(\"The word\", short_word3, \"is not found in\", long_word)"
      ],
      "execution_count": null,
      "outputs": []
    },
    {
      "cell_type": "markdown",
      "metadata": {
        "id": "Jr3Z08HxE-dS"
      },
      "source": [
        "Hmm ... it was annoying to have to write all three of those if statements, it would be a lot easier to use a loop ...\n",
        "\n",
        "The following code does exactly the same thing as the previous code, but it is shorter!"
      ]
    },
    {
      "cell_type": "code",
      "metadata": {
        "id": "WCuPINywFcYK"
      },
      "source": [
        "word_list = [\"cat\", \"pill\", \"pillow\"]\n",
        "\n",
        "long_word = \"caterpillar\"\n",
        "\n",
        "for short_word in word_list:\n",
        "  if short_word in long_word:\n",
        "    print(\"The word\", short_word, \"is part of\", long_word)\n",
        "  else:\n",
        "    print(\"The word\", short_word, \"is not found in\", long_word)"
      ],
      "execution_count": null,
      "outputs": []
    },
    {
      "cell_type": "markdown",
      "metadata": {
        "id": "4CJ7E075FGm4"
      },
      "source": [
        "\n",
        "\n",
        "---\n",
        "\n",
        "\n",
        "\n",
        "---\n",
        "\n",
        "\n",
        "\n",
        "---\n",
        "\n",
        "**LOOPS AND STRINGS**\n",
        "\n",
        "You can use a \"for\" loop to step through each character of a string, just like you can use a \"for\" loop to step through each item in a list. \n"
      ]
    },
    {
      "cell_type": "code",
      "metadata": {
        "id": "sD3EYfEVFzM6"
      },
      "source": [
        "word1 = input(\"Enter a word: \")\n",
        "word1 = word1.upper()\n",
        "\n",
        "print(\"The letters in your word are: \")\n",
        "for letter in word1:\n",
        "  print(letter)"
      ],
      "execution_count": null,
      "outputs": []
    },
    {
      "cell_type": "markdown",
      "metadata": {
        "id": "bwLIc5s7GZw5"
      },
      "source": [
        "You could also do something strange like only printing the letters in the first half of the alphabet:"
      ]
    },
    {
      "cell_type": "code",
      "metadata": {
        "id": "JIblKBz3Gz9r"
      },
      "source": [
        "word1 = input(\"Enter a word: \")\n",
        "word1 = word1.upper()\n",
        "\n",
        "print(\"The letters in your word are: \")\n",
        "for letter in word1:\n",
        "  if letter in \"ABCDEFGHIJKLM\":\n",
        "    print(letter)"
      ],
      "execution_count": null,
      "outputs": []
    },
    {
      "cell_type": "markdown",
      "metadata": {
        "id": "bA5LNak3HAvX"
      },
      "source": [
        "\n",
        "\n",
        "---\n",
        "\n",
        "\n",
        "---\n",
        "\n",
        "---\n",
        "\n",
        "**CHECKING USER INPUT**\n",
        "\n",
        "You have probably noticed in the past, that the **int(x)** function in Python reacts badly if the string you are trying to turn into an integer isn't made up of numbers. \n",
        "\n",
        "We can use the string command: VARIABLE_NAME.isdigit() to check and see if the thing the user entered is actually a number. \n",
        "\n"
      ]
    },
    {
      "cell_type": "code",
      "metadata": {
        "id": "sh-q1xlgHUMF"
      },
      "source": [
        "user_string = input(\"Enter a number: \")\n",
        "\n",
        "if user_string.isdigit():\n",
        "  print(\"You correctly entered a number\")\n",
        "else:\n",
        "  print(\"No! I asked you to enter a number!\")\n",
        "\n"
      ],
      "execution_count": null,
      "outputs": []
    },
    {
      "cell_type": "markdown",
      "metadata": {
        "id": "mj9yGU2sIN9X"
      },
      "source": [
        "We can combine this idea with a \"while\" loop to keep asking the user to type something until they correctly enter a number. \n",
        "\n",
        "This while loop keeps running as long as the user enters something that is NOT a number. "
      ]
    },
    {
      "cell_type": "code",
      "metadata": {
        "id": "Htg5QOCBIYtd"
      },
      "source": [
        "user_string = input(\"Please enter a number: \")\n",
        "\n",
        "while not user_string.isdigit():\n",
        "  print(\"No, that isn't a number.\")\n",
        "  user_string = input(\"Please enter a number: \")\n",
        "\n",
        "number = int(user_string)\n",
        "answer = number + 10\n",
        "print(\"When I add 10 to your number, I get: \", answer)"
      ],
      "execution_count": null,
      "outputs": []
    }
  ]
}