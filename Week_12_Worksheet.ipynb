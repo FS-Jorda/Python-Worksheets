{
  "nbformat": 4,
  "nbformat_minor": 0,
  "metadata": {
    "colab": {
      "name": "Week 12 Worksheet.ipynb",
      "provenance": [],
      "authorship_tag": "ABX9TyNbhXZXQXgsQqnTsM/r2Hzy",
      "include_colab_link": true
    },
    "kernelspec": {
      "name": "python3",
      "display_name": "Python 3"
    }
  },
  "cells": [
    {
      "cell_type": "markdown",
      "metadata": {
        "id": "view-in-github",
        "colab_type": "text"
      },
      "source": [
        "<a href=\"https://colab.research.google.com/github/mlepinski/Python-Worksheets/blob/master/Week_12_Worksheet.ipynb\" target=\"_parent\"><img src=\"https://colab.research.google.com/assets/colab-badge.svg\" alt=\"Open In Colab\"/></a>"
      ]
    },
    {
      "cell_type": "markdown",
      "metadata": {
        "id": "tSiQdTPOlXNM"
      },
      "source": [
        "**SPREADSHEET DATA**\n",
        "\n",
        "Spreadsheet data -- data with rows and columns -- comes up all the time in the natural and social sciences. \n",
        "\n",
        "This data is very commonly stored in CSV files (which stands for Comma Separated Values). If you are used to using a tool like Google Sheets, you can check the File menu and see that Google Sheets has an option to Download the data as a CSV file. Microsoft Excel and similar programs also have the option to save as a CSV file. Also, if you find interesting data on the Internet, it is very likely to be available as a CSV file.\n",
        "\n",
        "So a CSV file is just a file, and so we can use the techniques from the last assignment to process CSV files just like we did for the file of Shakespeare's Sonnets. \n",
        "\n",
        "For example, I put on Github some data on the area and population of US states. The following code -- similar to what we did on the last assignment -- can be used to see that there are two states that include the word \"North\". \n",
        "\n"
      ]
    },
    {
      "cell_type": "code",
      "metadata": {
        "id": "4eEHyVs7okTC"
      },
      "source": [
        "import urllib.request\n",
        "\n",
        "file_name = \"https://raw.githubusercontent.com/mlepinski/Python-Worksheets/master/states.csv\"\n",
        "my_file = urllib.request.urlopen(file_name)\n",
        "\n",
        "long_string = my_file.read()\n",
        "long_string = long_string.decode(\"utf-8\")\n",
        "\n",
        "no_line_breaks = long_string.replace(\"\\n\", \" \")\n",
        "no_commas = no_line_breaks.replace(\",\", \" \")\n",
        "lower_case = no_commas.lower()\n",
        "\n",
        "list_of_words = lower_case.split()\n",
        "\n",
        "word_count = 0 \n",
        "\n",
        "for word in list_of_words:\n",
        "  if word == \"north\":\n",
        "    word_count = word_count + 1\n",
        "\n",
        "print(\"The word North appears\", word_count, \"times in the file\")"
      ],
      "execution_count": null,
      "outputs": []
    },
    {
      "cell_type": "markdown",
      "metadata": {
        "id": "h0vJ_WvRpLfL"
      },
      "source": [
        "However, if you want to do more complicated things with your data, this approach gets messy fast. \n",
        "\n",
        "Therefore, in practice, when Python folks want to work with spreadsheet data they use a special Python package, called Pandas. Pandas is specially designed to make it easier to work with CSV files and it is one of the most commonly used Python packages. \n",
        "\n",
        "The example code below uses the Pandas read_csv command to grab a CSV file off the Internet. Pandas allows you to store the data from a CSV file in a Python variable. We call the resulting variable a \"Pandas dataframe\"\n",
        "\n",
        "Pandas provides a bunch of useful commands for working with dataframes. They may be a bit confusing at first, but they are powerful once you get used to them. \n",
        "\n",
        "Below we use the comamnd **head()** to print out the first few rows of a dataframe. Since dataframes are sometimes very large, it is often useful to just print out the first few rows to get a since of what the data looks like"
      ]
    },
    {
      "cell_type": "code",
      "metadata": {
        "id": "lOIqEL8olVsD",
        "outputId": "baa87d57-2a99-4ff9-f072-12179a55dac0",
        "colab": {
          "base_uri": "https://localhost:8080/",
          "height": 195
        }
      },
      "source": [
        "import pandas\n",
        "\n",
        "file_name = \"https://raw.githubusercontent.com/mlepinski/Python-Worksheets/master/states.csv\"\n",
        "state_data = pandas.read_csv(file_name)\n",
        "\n",
        "state_data.head()"
      ],
      "execution_count": null,
      "outputs": [
        {
          "output_type": "execute_result",
          "data": {
            "text/html": [
              "<div>\n",
              "<style scoped>\n",
              "    .dataframe tbody tr th:only-of-type {\n",
              "        vertical-align: middle;\n",
              "    }\n",
              "\n",
              "    .dataframe tbody tr th {\n",
              "        vertical-align: top;\n",
              "    }\n",
              "\n",
              "    .dataframe thead th {\n",
              "        text-align: right;\n",
              "    }\n",
              "</style>\n",
              "<table border=\"1\" class=\"dataframe\">\n",
              "  <thead>\n",
              "    <tr style=\"text-align: right;\">\n",
              "      <th></th>\n",
              "      <th>Name</th>\n",
              "      <th>State</th>\n",
              "      <th>Area</th>\n",
              "      <th>Pop</th>\n",
              "    </tr>\n",
              "  </thead>\n",
              "  <tbody>\n",
              "    <tr>\n",
              "      <th>0</th>\n",
              "      <td>Alabama</td>\n",
              "      <td>AL</td>\n",
              "      <td>52423</td>\n",
              "      <td>4040587</td>\n",
              "    </tr>\n",
              "    <tr>\n",
              "      <th>1</th>\n",
              "      <td>Alaska</td>\n",
              "      <td>AK</td>\n",
              "      <td>656424</td>\n",
              "      <td>550043</td>\n",
              "    </tr>\n",
              "    <tr>\n",
              "      <th>2</th>\n",
              "      <td>Arizona</td>\n",
              "      <td>AZ</td>\n",
              "      <td>114006</td>\n",
              "      <td>3665228</td>\n",
              "    </tr>\n",
              "    <tr>\n",
              "      <th>3</th>\n",
              "      <td>Arkansas</td>\n",
              "      <td>AR</td>\n",
              "      <td>53182</td>\n",
              "      <td>2350725</td>\n",
              "    </tr>\n",
              "    <tr>\n",
              "      <th>4</th>\n",
              "      <td>California</td>\n",
              "      <td>CA</td>\n",
              "      <td>163707</td>\n",
              "      <td>29769021</td>\n",
              "    </tr>\n",
              "  </tbody>\n",
              "</table>\n",
              "</div>"
            ],
            "text/plain": [
              "         Name State    Area       Pop\n",
              "0     Alabama    AL   52423   4040587\n",
              "1      Alaska    AK  656424    550043\n",
              "2     Arizona    AZ  114006   3665228\n",
              "3    Arkansas    AR   53182   2350725\n",
              "4  California    CA  163707  29769021"
            ]
          },
          "metadata": {
            "tags": []
          },
          "execution_count": 5
        }
      ]
    },
    {
      "cell_type": "markdown",
      "metadata": {
        "id": "DlYYmA41q7_k"
      },
      "source": [
        "Pandas uses square brackets to identify particular columns of data. \n",
        "\n",
        "So for example, we could print the column of State Populations as follows:\n",
        "\n"
      ]
    },
    {
      "cell_type": "code",
      "metadata": {
        "id": "ma75Aa5rrQS5"
      },
      "source": [
        "import pandas\n",
        "\n",
        "file_name = \"https://raw.githubusercontent.com/mlepinski/Python-Worksheets/master/states.csv\"\n",
        "state_data = pandas.read_csv(file_name)\n",
        "\n",
        "print(state_data[\"Pop\"])\n"
      ],
      "execution_count": null,
      "outputs": []
    },
    {
      "cell_type": "markdown",
      "metadata": {
        "id": "qraRSJGgrqTr"
      },
      "source": [
        "I wonder what the largest state population is? \n",
        "\n",
        "We could use a for loop to loop through the population data and figure that out."
      ]
    },
    {
      "cell_type": "code",
      "metadata": {
        "id": "ldr72lgtrpuV",
        "outputId": "713b8e21-d59d-4809-def9-aee44da65352",
        "colab": {
          "base_uri": "https://localhost:8080/"
        }
      },
      "source": [
        "import pandas\n",
        "\n",
        "file_name = \"https://raw.githubusercontent.com/mlepinski/Python-Worksheets/master/states.csv\"\n",
        "state_data = pandas.read_csv(file_name)\n",
        "\n",
        "biggest_pop = 0\n",
        "\n",
        "for pop in state_data[\"Pop\"]:\n",
        "  if pop > biggest_pop:\n",
        "    biggest_pop = pop\n",
        "\n",
        "print(biggest_pop)"
      ],
      "execution_count": null,
      "outputs": [
        {
          "output_type": "stream",
          "text": [
            "29769021\n"
          ],
          "name": "stdout"
        }
      ]
    },
    {
      "cell_type": "markdown",
      "metadata": {
        "id": "jp1txy_jsTfb"
      },
      "source": [
        "Wow! One state has almost 30 Million people. I wonder what state that is?\n",
        "\n",
        "(Also, this might be a good time to mention that this data is a bit old. It is from a previous census. When we get the new data from the 2020 census, I will need to update my Github repository)\n",
        "\n",
        "In order to work with both the Name and Population of a state, we would need to loop through the rows in the data frame and not loop through one column. \n",
        "\n",
        "The command **iterrows()** (short for iterate the rows) allows us to loop through the rows of a data frame. \n",
        "\n",
        "The following code loops through the rows of a data frame, calling the row number **row_num** and the data for the row is **row**. \n",
        "\n",
        "As with any for loop, we can name the loop variables anything we want. The the thing that is different here (as compared to most loops that we do) is that **iterrows()** forces us to have two loop variables (one for the row number and one for the data) instead of one. In this example, we give a name to the row number (because that is what **iterrows()** wants us to do) but then we ignore the row number inside of our loop."
      ]
    },
    {
      "cell_type": "code",
      "metadata": {
        "id": "O-ak--A3y140"
      },
      "source": [
        "import pandas\n",
        "\n",
        "file_name = \"https://raw.githubusercontent.com/mlepinski/Python-Worksheets/master/states.csv\"\n",
        "state_data = pandas.read_csv(file_name)\n",
        "\n",
        "biggest_pop = 0\n",
        "\n",
        "for (row_num, row)  in state_data.iterrows():\n",
        "  print(row[\"Name\"], row[\"Pop\"])\n",
        "\n"
      ],
      "execution_count": null,
      "outputs": []
    },
    {
      "cell_type": "markdown",
      "metadata": {
        "id": "aGi4m9mh0_oO"
      },
      "source": [
        "So we successfully looped through the Rows of our data and printed out the state name and the population. \n",
        "\n",
        "That is a good start, now we just need to keep track of the name and population for the biggest state we have seen so far. \n"
      ]
    },
    {
      "cell_type": "code",
      "metadata": {
        "id": "gj4_uTFx1Eqd"
      },
      "source": [
        "import pandas\n",
        "\n",
        "file_name = \"https://raw.githubusercontent.com/mlepinski/Python-Worksheets/master/states.csv\"\n",
        "state_data = pandas.read_csv(file_name)\n",
        "\n",
        "biggest_pop = 0\n",
        "biggest_name = \" \"\n",
        "\n",
        "for (row_num, row)  in state_data.iterrows():\n",
        "  if row[\"Pop\"] > biggest_pop:\n",
        "    biggest_pop = row[\"Pop\"]\n",
        "    biggest_name = row[\"Name\"]\n",
        "\n",
        "print(biggest_name, biggest_pop)"
      ],
      "execution_count": null,
      "outputs": []
    },
    {
      "cell_type": "markdown",
      "metadata": {
        "id": "Rjlz5KCv1hWo"
      },
      "source": [
        "\n",
        "\n",
        "---\n",
        "\n",
        "\n",
        "\n",
        "---\n",
        "\n",
        "\n",
        "\n",
        "---\n",
        "**SELECTING ROWS WE CARE ABOUT**\n",
        "\n",
        "Pandas also gives you the ability to easily grab the row (or rows) that satisfy a particular condition. \n",
        "\n",
        "For example, let's say I want to find the row with the State (abbreviation) FL\n"
      ]
    },
    {
      "cell_type": "code",
      "metadata": {
        "id": "eC3BHviK2SvI",
        "outputId": "2b0fe261-9499-4f3c-f2b3-61c3591efb42",
        "colab": {
          "base_uri": "https://localhost:8080/"
        }
      },
      "source": [
        "import pandas\n",
        "\n",
        "file_name = \"https://raw.githubusercontent.com/mlepinski/Python-Worksheets/master/states.csv\"\n",
        "state_data = pandas.read_csv(file_name)\n",
        "\n",
        "fl = state_data[ state_data[\"State\"]== \"FL\"]\n",
        "\n",
        "print(fl)"
      ],
      "execution_count": null,
      "outputs": [
        {
          "output_type": "stream",
          "text": [
            "      Name State   Area       Pop\n",
            "9  Florida    FL  65756  12937926\n"
          ],
          "name": "stdout"
        }
      ]
    },
    {
      "cell_type": "markdown",
      "metadata": {
        "id": "RS8WYyeG3GwC"
      },
      "source": [
        "This gives an alternative (easier) way to find the sate with the largest population. (That **iterrows** stuff was kind of weird, I like this way better)\n",
        "\n",
        "First, we use the built-in **max** function to find the largest population (without looping!) "
      ]
    },
    {
      "cell_type": "code",
      "metadata": {
        "id": "b9LBvBscelwT"
      },
      "source": [
        "import pandas\n",
        "\n",
        "file_name = \"https://raw.githubusercontent.com/mlepinski/Python-Worksheets/master/states.csv\"\n",
        "state_data = pandas.read_csv(file_name)\n",
        "\n",
        "max_pop = state_data[\"Pop\"].max()\n",
        "\n",
        "print(max_pop)"
      ],
      "execution_count": null,
      "outputs": []
    },
    {
      "cell_type": "markdown",
      "metadata": {
        "id": "d7Q7QSXufCYS"
      },
      "source": [
        "Pandas actually has a bunch of useful built-in functions that can often give us the answer we are looking for without needing to write a loop.\n",
        "\n",
        "For example, instead of **state_data[\"Pop\"].max()** we could have asked for the mean (average) with **state_data[\"Pop\"].mean()** or the median population with **state_data[\"Pop\"].median()**\n",
        "\n",
        "Now let's get back to our example for finding the largest population state. Once we know the population of the largest state, it is really easy to pick out the state that has this particular population ... This is just like when we asked Pandas to find the row where the abbreviation was \"FL\" ... Except this time we want the row where the population is max_pop (29769021)."
      ]
    },
    {
      "cell_type": "code",
      "metadata": {
        "id": "CHxpqQPle5yq",
        "outputId": "86326741-ab08-4807-aa9f-3ed855ca3e82",
        "colab": {
          "base_uri": "https://localhost:8080/"
        }
      },
      "source": [
        "import pandas\n",
        "\n",
        "file_name = \"https://raw.githubusercontent.com/mlepinski/Python-Worksheets/master/states.csv\"\n",
        "state_data = pandas.read_csv(file_name)\n",
        "\n",
        "max_pop = state_data[\"Pop\"].max()\n",
        "\n",
        "max_pop_row = state_data[ state_data[\"Pop\"]== max_pop]\n",
        "\n",
        "print(max_pop_row)"
      ],
      "execution_count": 10,
      "outputs": [
        {
          "output_type": "stream",
          "text": [
            "         Name State    Area       Pop\n",
            "4  California    CA  163707  29769021\n"
          ],
          "name": "stdout"
        }
      ]
    },
    {
      "cell_type": "markdown",
      "metadata": {
        "id": "oxOC5t2ogh7K"
      },
      "source": [
        "\n",
        "\n",
        "---\n",
        "\n",
        "\n",
        "\n",
        "---\n",
        "\n",
        "\n",
        "\n",
        "---\n",
        "\n",
        "**ADDING A NEW COLUMN**\n",
        "\n",
        "So the Area column in our data uses the units of Square Miles. Suppose we wanted the Area in Square Kilometers (metric system) instead od Square Miles. \n",
        "\n",
        "**Note:** This type of unit conversation comes up all the time in scientific data. \n",
        "\n",
        "We can convert from Square Miles to Square Kilometers by multiplying the area by a conversation factor of 2.59 (one square mile is 2.59 square kilometers). \n",
        "\n",
        "Here is how we add a new column to our existing data table. \n"
      ]
    },
    {
      "cell_type": "code",
      "metadata": {
        "id": "2QNWB6taiSnk",
        "outputId": "aed612bf-d0af-45e9-88ab-f21dcd23927e",
        "colab": {
          "base_uri": "https://localhost:8080/",
          "height": 195
        }
      },
      "source": [
        "import pandas\n",
        "\n",
        "file_name = \"https://raw.githubusercontent.com/mlepinski/Python-Worksheets/master/states.csv\"\n",
        "state_data = pandas.read_csv(file_name)\n",
        "\n",
        "state_data[\"Area Kilometers\"] = state_data[\"Area\"] * 2.59\n",
        "\n",
        "state_data.head()"
      ],
      "execution_count": 12,
      "outputs": [
        {
          "output_type": "execute_result",
          "data": {
            "text/html": [
              "<div>\n",
              "<style scoped>\n",
              "    .dataframe tbody tr th:only-of-type {\n",
              "        vertical-align: middle;\n",
              "    }\n",
              "\n",
              "    .dataframe tbody tr th {\n",
              "        vertical-align: top;\n",
              "    }\n",
              "\n",
              "    .dataframe thead th {\n",
              "        text-align: right;\n",
              "    }\n",
              "</style>\n",
              "<table border=\"1\" class=\"dataframe\">\n",
              "  <thead>\n",
              "    <tr style=\"text-align: right;\">\n",
              "      <th></th>\n",
              "      <th>Name</th>\n",
              "      <th>State</th>\n",
              "      <th>Area</th>\n",
              "      <th>Pop</th>\n",
              "      <th>Area Kilometers</th>\n",
              "    </tr>\n",
              "  </thead>\n",
              "  <tbody>\n",
              "    <tr>\n",
              "      <th>0</th>\n",
              "      <td>Alabama</td>\n",
              "      <td>AL</td>\n",
              "      <td>52423</td>\n",
              "      <td>4040587</td>\n",
              "      <td>135775.57</td>\n",
              "    </tr>\n",
              "    <tr>\n",
              "      <th>1</th>\n",
              "      <td>Alaska</td>\n",
              "      <td>AK</td>\n",
              "      <td>656424</td>\n",
              "      <td>550043</td>\n",
              "      <td>1700138.16</td>\n",
              "    </tr>\n",
              "    <tr>\n",
              "      <th>2</th>\n",
              "      <td>Arizona</td>\n",
              "      <td>AZ</td>\n",
              "      <td>114006</td>\n",
              "      <td>3665228</td>\n",
              "      <td>295275.54</td>\n",
              "    </tr>\n",
              "    <tr>\n",
              "      <th>3</th>\n",
              "      <td>Arkansas</td>\n",
              "      <td>AR</td>\n",
              "      <td>53182</td>\n",
              "      <td>2350725</td>\n",
              "      <td>137741.38</td>\n",
              "    </tr>\n",
              "    <tr>\n",
              "      <th>4</th>\n",
              "      <td>California</td>\n",
              "      <td>CA</td>\n",
              "      <td>163707</td>\n",
              "      <td>29769021</td>\n",
              "      <td>424001.13</td>\n",
              "    </tr>\n",
              "  </tbody>\n",
              "</table>\n",
              "</div>"
            ],
            "text/plain": [
              "         Name State    Area       Pop  Area Kilometers\n",
              "0     Alabama    AL   52423   4040587        135775.57\n",
              "1      Alaska    AK  656424    550043       1700138.16\n",
              "2     Arizona    AZ  114006   3665228        295275.54\n",
              "3    Arkansas    AR   53182   2350725        137741.38\n",
              "4  California    CA  163707  29769021        424001.13"
            ]
          },
          "metadata": {
            "tags": []
          },
          "execution_count": 12
        }
      ]
    },
    {
      "cell_type": "markdown",
      "metadata": {
        "id": "DLxtPDiUghDj"
      },
      "source": [
        "In the above example, I chose to name the new column \"Area Kilometers\". However, I could have named it anything that I wanted by just putting a different name inside the square brackets. \n",
        "\n",
        "As a final example, let's figure out what the average area of a state is in Square Kilometers.\n",
        "\n"
      ]
    },
    {
      "cell_type": "code",
      "metadata": {
        "id": "rkFCxaMfjDBV"
      },
      "source": [
        "import pandas\n",
        "\n",
        "file_name = \"https://raw.githubusercontent.com/mlepinski/Python-Worksheets/master/states.csv\"\n",
        "state_data = pandas.read_csv(file_name)\n",
        "\n",
        "state_data[\"Area Kilometers\"] = state_data[\"Area\"] * 2.59\n",
        "\n",
        "average_km_area = state_data[\"Area Kilometers\"].mean()\n",
        "\n",
        "print(average_km_area)"
      ],
      "execution_count": null,
      "outputs": []
    },
    {
      "cell_type": "markdown",
      "metadata": {
        "id": "5DVOYpQ-jOZQ"
      },
      "source": [
        "Okay, now let's figure out which state is closest to the average area. \n",
        "\n",
        "I am going to loop through the areas of each state and keep track of the smallest difference (gap/distance) between the state's area and the average area. \n",
        "\n",
        "**Note:** I want the difference between the current state's area and the average area to be positive, so I use the built in **abs** (absolute value) function which just makes a number positive by getting rid of the negative sign if the number is less than zero. "
      ]
    },
    {
      "cell_type": "code",
      "metadata": {
        "id": "FOcc4LGlkO9M"
      },
      "source": [
        "import pandas\n",
        "\n",
        "file_name = \"https://raw.githubusercontent.com/mlepinski/Python-Worksheets/master/states.csv\"\n",
        "state_data = pandas.read_csv(file_name)\n",
        "\n",
        "state_data[\"Area Kilometers\"] = state_data[\"Area\"] * 2.59\n",
        "\n",
        "average_km_area = state_data[\"Area Kilometers\"].mean()\n",
        "\n",
        "state_data[\"Area Difference\"] = abs( state_data[\"Area Kilometers\"] - average_km_area)\n",
        "\n",
        "smallest_difference = state_data[\"Area Difference\"].min()\n",
        "\n",
        "close_to_average_row = state_data[ state_data[\"Area Difference\"] == smallest_difference]\n",
        "\n",
        "print(\"This state is closest to the average area of a state:\")\n",
        "print(close_to_average_row)"
      ],
      "execution_count": null,
      "outputs": []
    }
  ]
}