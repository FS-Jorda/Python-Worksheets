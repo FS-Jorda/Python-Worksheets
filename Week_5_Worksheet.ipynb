{
  "nbformat": 4,
  "nbformat_minor": 0,
  "metadata": {
    "colab": {
      "name": "Week 5 Worksheet.ipynb",
      "provenance": [],
      "authorship_tag": "ABX9TyMbigz9J5F2b46D1k77yV78",
      "include_colab_link": true
    },
    "kernelspec": {
      "name": "python3",
      "display_name": "Python 3"
    }
  },
  "cells": [
    {
      "cell_type": "markdown",
      "metadata": {
        "id": "view-in-github",
        "colab_type": "text"
      },
      "source": [
        "<a href=\"https://colab.research.google.com/github/mlepinski/Python-Worksheets/blob/master/Week_5_Worksheet.ipynb\" target=\"_parent\"><img src=\"https://colab.research.google.com/assets/colab-badge.svg\" alt=\"Open In Colab\"/></a>"
      ]
    },
    {
      "cell_type": "markdown",
      "metadata": {
        "id": "aAMwNoKj3VyI",
        "colab_type": "text"
      },
      "source": [
        "# WEEK FIVE WORKSHEET : Review of Loops of Functions\n"
      ]
    },
    {
      "cell_type": "markdown",
      "metadata": {
        "id": "0KhBCuga3etB",
        "colab_type": "text"
      },
      "source": [
        "**RECALLING LOOPS AND FUNCTIONS**\n",
        "\n",
        "Below is a for loop that adds up all of the numbers less than 6\n"
      ]
    },
    {
      "cell_type": "code",
      "metadata": {
        "id": "Ziwa2hVh3Smj",
        "colab_type": "code",
        "colab": {}
      },
      "source": [
        "answer_so_far = 0\n",
        "for current_number in range(6):\n",
        "  answer_so_far = answer_so_far + current_number\n",
        "print(\"The answer is:\", answer_so_far)"
      ],
      "execution_count": null,
      "outputs": []
    },
    {
      "cell_type": "markdown",
      "metadata": {
        "id": "ec1Jnifh4K3W",
        "colab_type": "text"
      },
      "source": [
        "Each time through the loop, Python changes the number that is stored in the loop variable. \n",
        "\n",
        "In this example, I decided to call the loop variable **number** but I could have called it anything that I wanted to, and I would still get the same answer\n",
        "\n",
        "\n"
      ]
    },
    {
      "cell_type": "code",
      "metadata": {
        "id": "r9natktw5AwI",
        "colab_type": "code",
        "colab": {}
      },
      "source": [
        "answer_so_far = 0\n",
        "for fart_face in range(6):\n",
        "  answer_so_far = answer_so_far + fart_face\n",
        "print(\"The answer is:\", answer_so_far)"
      ],
      "execution_count": null,
      "outputs": []
    },
    {
      "cell_type": "markdown",
      "metadata": {
        "id": "Zug7oSEP4ak2",
        "colab_type": "text"
      },
      "source": [
        "The variable **answer_so_far** starts at zero and and then each time through the loop I tell Python to add the **current_number** to the answer so far. This causes Python to add up the numbers one at a time.\n",
        "\n",
        "Often times when I am writing Python code, I want to get a better understanding of what is actually happening inside the loop. Therefore, I will sometimes put an extra print statement in the loop just for my benefit as a programmer."
      ]
    },
    {
      "cell_type": "code",
      "metadata": {
        "id": "iZ3FLkqm6NBn",
        "colab_type": "code",
        "colab": {}
      },
      "source": [
        "answer_so_far = 0\n",
        "for current_number in range(6):\n",
        "  #This print statement is just for my benefit as a programmer\n",
        "  #I will get rid of this print statement once I am sure the loop does what I want\n",
        "  print(\"In the loop: We will add\", current_number, \"to\", answer_so_far)\n",
        "  answer_so_far = answer_so_far + current_number\n",
        "print(\"The answer is:\", answer_so_far)"
      ],
      "execution_count": null,
      "outputs": []
    },
    {
      "cell_type": "markdown",
      "metadata": {
        "id": "RgBlJCac6tgc",
        "colab_type": "text"
      },
      "source": [
        "This loop is great for adding the numbers less than 6\n",
        "\n",
        "Recall that range(6) is a shortcut for [0,1,2,3,4,5] \n",
        "\n",
        "However, there is nothing special about the number 6. Maybe later I will want to add up the numbers less than 10, or the numbers less than 12. \n",
        "\n",
        "To be able to re-use this nice loop that I wrote, I will make a generic function that can be used to add up numbers less than 6, or numbers less than 10, or numbers less than 12 ... "
      ]
    },
    {
      "cell_type": "code",
      "metadata": {
        "id": "X-8-HjJ57sfe",
        "colab_type": "code",
        "colab": {}
      },
      "source": [
        "#This function adds up all of the numbers that are less than the upper-limit\n",
        "def add_up_numbers(upper_limit):\n",
        "  function_answer = 0\n",
        "  for current_number in range(upper_limit):\n",
        "    function_answer = function_answer + current_number\n",
        "  return function_answer"
      ],
      "execution_count": null,
      "outputs": []
    },
    {
      "cell_type": "markdown",
      "metadata": {
        "id": "fu68OSQ28F8f",
        "colab_type": "text"
      },
      "source": [
        "All that I did here was replace the particular number 6 with a variable **upper_limit**\n",
        "\n",
        "Then I made that variable an input to the function. (Recall that inputs to a function go in parentheses afer the name when we are defining a function)\n",
        "\n",
        "This allows me to use the function to add up numbers that are less than 6, or less than 10, or less than 12 ... because I can send whatever number I want as an input to the function. \n",
        "\n",
        "However, defining the function doesn't really do anything. If you press the Arrow button next to the function definition up above, nothing much happens. \n",
        "\n",
        "Defining a function is just explaining a concept to Python that can be used later on. I tell Python \"Here is how you add up all the numbers less than some upper limit\". \n",
        "\n",
        "To actually use the function I need to call the function from my \"main program\". When I refer to the main program, I mean the Python commands that are all the way up against the left margin ... the statements that are NOT indented ... that are NOT inside any function"
      ]
    },
    {
      "cell_type": "code",
      "metadata": {
        "id": "d5R9vpJe9X6y",
        "colab_type": "code",
        "colab": {}
      },
      "source": [
        "#Let's call the function and give it an input of 10\n",
        "add_up_numbers(10)\n",
        "\n",
        "#This doesn't work\n",
        "print(\"Adding up all the numbers less than 10 gives us\", function_answer)"
      ],
      "execution_count": null,
      "outputs": []
    },
    {
      "cell_type": "markdown",
      "metadata": {
        "id": "UpBGyhdw92tJ",
        "colab_type": "text"
      },
      "source": [
        "So in the example above, I called the function and asked it to add up all of the numbers less than 10. \n",
        "\n",
        "That part worked great, but when I then asked Python to print the answer, things it didn't work.\n",
        "\n",
        "The reason for this is because **function_answer** is a variable that lives inside the function **add_up_numbers** ... the variable belongs to the function and so we can't see the variable outside the function. \n",
        "\n",
        "In order to make use of the answer, we need to assign the return value of the function to a variable that lives in our main program.\n"
      ]
    },
    {
      "cell_type": "code",
      "metadata": {
        "id": "GTo0xREo-CGI",
        "colab_type": "code",
        "colab": {}
      },
      "source": [
        "#This time when we call the function, we put the answer into a variable\n",
        "answer = add_up_numbers(10)\n",
        "\n",
        "#Now this works\n",
        "print(\"Adding up all the numbers less than 10 gives us\", answer)\n",
        "\n",
        "#So much fun, let's do it again\n",
        "answer = add_up_numbers(12)\n",
        "\n",
        "print(\"Adding up all the numbers less than 12 gives us\", answer)"
      ],
      "execution_count": null,
      "outputs": []
    },
    {
      "cell_type": "markdown",
      "metadata": {
        "id": "n1EGpOo3SKEp",
        "colab_type": "text"
      },
      "source": [
        "In the above example, when we write:\n",
        "\n",
        "**answer = add_up_numbers(10)**\n",
        "\n",
        "We are telling Python to go and run the add_up_numbers function and to use 10 as the input variable (so Python puts a 10 into **upper_limit** and then runs the code for add_up_numbers). \n",
        "\n",
        "When Python is done running add_up_numbers, we are asking Python to take whatever value **add_up_numbers** returns and to put it into a variable called **answer**. This let's us refer to **answer** later on in our print statement. "
      ]
    },
    {
      "cell_type": "markdown",
      "metadata": {
        "id": "JYvGryWlS9Kc",
        "colab_type": "text"
      },
      "source": [
        "**WHILE LOOPS AND THE CLOCK MATH**\n",
        "\n",
        "While loops are used when you don't know in advance how many times you need a loop to run. While loops allow you to keep repeating the loop until a certain condition is no longer True. (That is, you keep repeating until the answer to your question becomes False)\n",
        "\n",
        "For our while loop example, let's talk about clocks. The time right now is the same time as it will be 12 hours from now ... and also the same time as it will be 24 or 36 hours from now. \n",
        "\n",
        "So let's use a while loop to help us answer the question: What time will it be 30 hours from 2 o'clock."
      ]
    },
    {
      "cell_type": "code",
      "metadata": {
        "id": "VtjY-S3hdruV",
        "colab_type": "code",
        "colab": {
          "base_uri": "https://localhost:8080/",
          "height": 34
        },
        "outputId": "53425070-b3fa-4e63-d494-fe4e992fbd04"
      },
      "source": [
        "current_time = 2\n",
        "hours_from_now = 30\n",
        "answer = current_time + hours_from_now\n",
        "while answer > 12:\n",
        "  answer = answer - 12\n",
        "\n",
        "print(\"30 hours from 2 o'clock the time will be\", answer, \"o'clock\")"
      ],
      "execution_count": null,
      "outputs": [
        {
          "output_type": "stream",
          "text": [
            "30 hours from 2 o'clock the time will be 8 o'clock\n"
          ],
          "name": "stdout"
        }
      ]
    },
    {
      "cell_type": "markdown",
      "metadata": {
        "id": "aV9r6R_EeAYR",
        "colab_type": "text"
      },
      "source": [
        "So what is this code doing?\n",
        "\n",
        "We start at 2 o'clock and then add 30 hours ... this gives us 32 o'clock which isn't a real time. So we keep subtracting 12 hours from our answer until we get something that no greater than 12. \n",
        "\n",
        "Of course, we might care about numbers other than 30 hours. So let's make a function by replacing the 30 with a generic input **hours**"
      ]
    },
    {
      "cell_type": "code",
      "metadata": {
        "id": "Pfz_Cw2Oehet",
        "colab_type": "code",
        "colab": {}
      },
      "source": [
        "def add_hours(hours):\n",
        "  current_time = 2\n",
        "  answer = current_time + hours\n",
        "  while answer > 12:\n",
        "    answer = answer - 12\n",
        "  return answer"
      ],
      "execution_count": null,
      "outputs": []
    },
    {
      "cell_type": "markdown",
      "metadata": {
        "id": "SygDINHGe5ac",
        "colab_type": "text"
      },
      "source": [
        "We can now use this to find the time 20 hours from 2 o'clock or 50 hours from 2 o'clock ... or any number of hours that we want!"
      ]
    },
    {
      "cell_type": "code",
      "metadata": {
        "id": "rFH85nznfA2M",
        "colab_type": "code",
        "colab": {}
      },
      "source": [
        "print(\"30 hours from 2 o'clock the time will be\", add_hours(30), \"o'clock\")\n",
        "\n",
        "print(\"50 hours from 2 o'clock the time will be\", add_hours(50), \"o'clock\")"
      ],
      "execution_count": null,
      "outputs": []
    },
    {
      "cell_type": "markdown",
      "metadata": {
        "id": "5ssfD8c8fLG4",
        "colab_type": "text"
      },
      "source": [
        "However, what if we care about starting times other than 2 o'clock. \n",
        "\n",
        "It would be easy to make this function more useful by replacing the current time of 2 o'clock with a generic input of **start_time**"
      ]
    },
    {
      "cell_type": "code",
      "metadata": {
        "id": "mtIvSzCqfYsW",
        "colab_type": "code",
        "colab": {}
      },
      "source": [
        "def add_hours(start_time, hours):\n",
        "  answer = start_time + hours\n",
        "  while answer > 12:\n",
        "    answer = answer - 12\n",
        "  return answer"
      ],
      "execution_count": null,
      "outputs": []
    },
    {
      "cell_type": "markdown",
      "metadata": {
        "id": "89zi3hzKfdom",
        "colab_type": "text"
      },
      "source": [
        "Now we figure out what time it will be 40 hours after 10 o'clock or 75 hours after 8 o'clock."
      ]
    },
    {
      "cell_type": "code",
      "metadata": {
        "id": "9TxKwICpflxz",
        "colab_type": "code",
        "colab": {}
      },
      "source": [
        "print(\"40 hours from 10 o'clock the time will be\", add_hours(10,40), \"o'clock\")\n",
        "\n",
        "print(\"75 hours from 8 o'clock the time will be\", add_hours(8,75), \"o'clock\")"
      ],
      "execution_count": null,
      "outputs": []
    }
  ]
}