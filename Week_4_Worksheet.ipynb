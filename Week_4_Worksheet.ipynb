{
  "nbformat": 4,
  "nbformat_minor": 0,
  "metadata": {
    "colab": {
      "name": "Week 4 Worksheet.ipynb",
      "provenance": [],
      "authorship_tag": "ABX9TyONXs8DsqsDKT6ukOtrjBeE",
      "include_colab_link": true
    },
    "kernelspec": {
      "name": "python3",
      "display_name": "Python 3"
    }
  },
  "cells": [
    {
      "cell_type": "markdown",
      "metadata": {
        "id": "view-in-github",
        "colab_type": "text"
      },
      "source": [
        "<a href=\"https://colab.research.google.com/github/mlepinski/Python-Worksheets/blob/master/Week_4_Worksheet.ipynb\" target=\"_parent\"><img src=\"https://colab.research.google.com/assets/colab-badge.svg\" alt=\"Open In Colab\"/></a>"
      ]
    },
    {
      "cell_type": "markdown",
      "metadata": {
        "id": "d09YDYjREuUM",
        "colab_type": "text"
      },
      "source": [
        "# WEEK FOUR WORKSHEET : Functions in Python"
      ]
    },
    {
      "cell_type": "markdown",
      "metadata": {
        "id": "3FopvhbBE4xr",
        "colab_type": "text"
      },
      "source": [
        "**THE BASICS OF Functions**\n",
        "\n",
        "Functions are a way to define new vocabulary in Python.\n",
        "\n",
        "When you define a function, you give a name to a set of instructions, you can then execute those instructions multiple times by \"calling\" (or \"invoking\") the function.\n",
        "\n",
        "We use the \"def\" statement in Python to define a new function. "
      ]
    },
    {
      "cell_type": "code",
      "metadata": {
        "id": "Oebr_h5MErGD",
        "colab_type": "code",
        "colab": {}
      },
      "source": [
        "def HappyBirthdayEmily():\n",
        "  print(\"Happy Birthday to You\")\n",
        "  print(\"Happy Birthday to You\")\n",
        "  print(\"Happy Birthday, dear Emily\")\n",
        "  print(\"Happy Birthday to You\")"
      ],
      "execution_count": 2,
      "outputs": []
    },
    {
      "cell_type": "markdown",
      "metadata": {
        "id": "eXsCbvgCGKlA",
        "colab_type": "text"
      },
      "source": [
        "Notice that when you run the above Python code, nothing happens!\n",
        "\n",
        "Defining a function just creates a new command (or a new word in Python's vocabulary) that you can use later\n",
        "\n",
        "But nothing actually happens until you call the function. "
      ]
    },
    {
      "cell_type": "code",
      "metadata": {
        "id": "6uQquO_dGKOQ",
        "colab_type": "code",
        "colab": {}
      },
      "source": [
        "HappyBirthdayEmily()"
      ],
      "execution_count": null,
      "outputs": []
    },
    {
      "cell_type": "markdown",
      "metadata": {
        "id": "7cn8CAZVGfvB",
        "colab_type": "text"
      },
      "source": [
        "To call a function, we just put the name of the function along with a pair of parentheses.\n",
        "\n",
        "Notice that once we have defined a function, we can call it as many times as we want to."
      ]
    },
    {
      "cell_type": "code",
      "metadata": {
        "id": "oDypi543Grlh",
        "colab_type": "code",
        "colab": {}
      },
      "source": [
        "HappyBirthdayEmily()\n",
        "HappyBirthdayEmily()\n",
        "HappyBirthdayEmily()"
      ],
      "execution_count": null,
      "outputs": []
    },
    {
      "cell_type": "markdown",
      "metadata": {
        "id": "2gzgToCrG44x",
        "colab_type": "text"
      },
      "source": [
        "Let's define another function. \n",
        "\n",
        "Notice that when we define a function we indent all of the commands that are part of the function. (Just like we did with if statements and loops)\n",
        "\n",
        "All of the instructions that are indented will be executed whenever we call the function. "
      ]
    },
    {
      "cell_type": "code",
      "metadata": {
        "id": "T1AHUTfJHXQY",
        "colab_type": "code",
        "colab": {}
      },
      "source": [
        "def HappyBirthdaySam():\n",
        "  print(\"Happy Birthday to You\")\n",
        "  print(\"Happy Birthday to You\")\n",
        "  print(\"Happy Birthday, dear Sam\")\n",
        "  print(\"Happy Birthday to You\")"
      ],
      "execution_count": 5,
      "outputs": []
    },
    {
      "cell_type": "markdown",
      "metadata": {
        "id": "xtBBzixhHdlp",
        "colab_type": "text"
      },
      "source": [
        "Now we have two functions and we can use them both whenever we like"
      ]
    },
    {
      "cell_type": "code",
      "metadata": {
        "id": "qpeN7OWyHh9p",
        "colab_type": "code",
        "colab": {}
      },
      "source": [
        "HappyBirthdaySam()\n",
        "HappyBirthdayEmily()"
      ],
      "execution_count": null,
      "outputs": []
    },
    {
      "cell_type": "markdown",
      "metadata": {
        "id": "TPdzmDlrHmkQ",
        "colab_type": "text"
      },
      "source": [
        "\n",
        "\n",
        "---\n",
        "\n",
        "\n",
        "\n",
        "---\n",
        "\n",
        "\n",
        "\n",
        "**PROVIDING INPUT TO FUNCITONS**\n",
        "\n",
        "\n",
        "Notice that the two functions above are essentially the same. They both print birthday messages. \n",
        "\n",
        "It would really be a hassle to have to write a brand new function every time a new person has a birthday.\n",
        "\n",
        "Situations like this arise commonly in programming where you want to change one small thing in a function depending on the circumstances"
      ]
    },
    {
      "cell_type": "code",
      "metadata": {
        "id": "LZYoIF7iI14L",
        "colab_type": "code",
        "colab": {}
      },
      "source": [
        "def HappyBirthday(name):\n",
        "  print(\"Happy Birthday to You\")\n",
        "  print(\"Happy Birthday to You\")\n",
        "  print(\"Happy Birthday, dear\", name)\n",
        "  print(\"Happy Birthday to You\")"
      ],
      "execution_count": 11,
      "outputs": []
    },
    {
      "cell_type": "markdown",
      "metadata": {
        "id": "FHdWLaiZJGkI",
        "colab_type": "text"
      },
      "source": [
        "The above function takes an input (called name). \n",
        "\n",
        "Note: This is sometimes called \"passing a parameter\" to a function or \"providing input\" to a function\n",
        "\n",
        "When we want to use this function, we need to provide it with an input. Whatever input we provide will be temporarily put into the variable called **name** and then the function can make use of that input value by referring to **name** inside the function\n",
        "\n",
        "Let's see how this works"
      ]
    },
    {
      "cell_type": "code",
      "metadata": {
        "id": "409P3ML6JAoe",
        "colab_type": "code",
        "colab": {}
      },
      "source": [
        "HappyBirthday(\"Julia\")"
      ],
      "execution_count": null,
      "outputs": []
    },
    {
      "cell_type": "markdown",
      "metadata": {
        "id": "KdiQE0L6KTDy",
        "colab_type": "text"
      },
      "source": [
        "Because this function takes an input, we need to provide the provide that input by putting something inside the parentheses when we use the function\n",
        "\n",
        "You have seen this before in Python. You see, **print** is a function in Python that takes as input the thing we want to be printed onto the screen. So when we call the print function, we put an input in parentheses which tells the **print** function what to print.\n",
        "\n",
        "Also, when we use a function multiple times, we give it different inputs each time. "
      ]
    },
    {
      "cell_type": "code",
      "metadata": {
        "id": "fj45g1-nLClK",
        "colab_type": "code",
        "colab": {}
      },
      "source": [
        "HappyBirthday(\"Taylor\")\n",
        "HappyBirthday(\"Zachary\")"
      ],
      "execution_count": null,
      "outputs": []
    },
    {
      "cell_type": "markdown",
      "metadata": {
        "id": "AZRiOrGKLNT_",
        "colab_type": "text"
      },
      "source": [
        "In the above example, the first time that the HappyBirthday function runs, the thing stored in the **name** variable is \"Taylor\"\n",
        "\n",
        "The second time that the HappyBirthday function runs, the thing stored in the **name** variable is \"Zachary\"\n",
        "\n",
        "When we call the function, Python takes whatever is in the parentheses and puts it into the variable **name**\n",
        "\n",
        "Note: We could call the input variable for the function whatever we wanted. It wouldn't have to be **name**. We could call it **banana** and the function would still work"
      ]
    },
    {
      "cell_type": "code",
      "metadata": {
        "id": "0agt4M_hMFAd",
        "colab_type": "code",
        "colab": {}
      },
      "source": [
        "def HappyBirthday(banana):\n",
        "  print(\"Happy Birthday to You\")\n",
        "  print(\"Happy Birthday to You\")\n",
        "  print(\"Happy Birthday, dear\", banana)\n",
        "  print(\"Happy Birthday to You\")"
      ],
      "execution_count": 14,
      "outputs": []
    },
    {
      "cell_type": "code",
      "metadata": {
        "id": "9SkS6DeJMKQ6",
        "colab_type": "code",
        "colab": {}
      },
      "source": [
        "HappyBirthday(\"Ellen\")\n",
        "HappyBirthday(\"Albert\")"
      ],
      "execution_count": null,
      "outputs": []
    },
    {
      "cell_type": "markdown",
      "metadata": {
        "id": "VPxzabAnMQHT",
        "colab_type": "text"
      },
      "source": [
        "If you run the above code, you will see that this HappyBirthday functions works perfectly fine even if we call the input variable **banana**\n",
        "\n",
        "In general, Python doesn't care what we call our variables\n",
        "\n",
        "However, it is a lot easier to understand what a program does if we give our variables useful names that are related to what is actually stored in the variable. \n",
        "\n",
        "Python won't care if you use a random word like **banana** but any human who reads your code will appreciate it if you call the variable **name** or **first_name** or something meaningful\n",
        "\n"
      ]
    },
    {
      "cell_type": "markdown",
      "metadata": {
        "id": "aXh8UmyHM-gc",
        "colab_type": "text"
      },
      "source": [
        "\n",
        "\n",
        "---\n",
        "\n",
        "\n",
        "\n",
        "---\n",
        "\n",
        "\n",
        "\n",
        "**FUNCTIONS THAT RETURN AN OUTPUT**\n",
        "\n",
        "So far our example functions have just printed text onto the screen.\n",
        "\n",
        "However, many useful functions have a job that requires them to actually figure out an answer.\n",
        "\n",
        "If a function computes an answer, we need a way to send that answer back to the main program\n",
        "\n",
        "You see functions are entirely separate entities from your main program, and so if you make a variable inside a function, you can't see that variable in your main program. "
      ]
    },
    {
      "cell_type": "code",
      "metadata": {
        "id": "9YMDROD3Mexc",
        "colab_type": "code",
        "colab": {}
      },
      "source": [
        "def double_it(number):\n",
        "  answer = number + number"
      ],
      "execution_count": 16,
      "outputs": []
    },
    {
      "cell_type": "code",
      "metadata": {
        "id": "uDNS9qZnN6nU",
        "colab_type": "code",
        "colab": {}
      },
      "source": [
        "double_it(3)\n",
        "print(answer)"
      ],
      "execution_count": null,
      "outputs": []
    },
    {
      "cell_type": "markdown",
      "metadata": {
        "id": "EPNj53UVOBFS",
        "colab_type": "text"
      },
      "source": [
        "This example gives us an error message becasue **answer** lives only inside the function **double_it** and so we can't refer to **answer** in the main part of our program (outside the function)\n",
        "\n",
        "When you call a function, it is like asking your neighbor to do so task for you. Anything that your neighbor uses to do the task, lives in their own dorm room and you can't just go and start randomly looking in boxes that reside in your neighbor's dorm ... that is just creepy\n",
        "\n",
        "So instead we use a return statement to tell Python that something is an answer that should be returned back to the main program"
      ]
    },
    {
      "cell_type": "code",
      "metadata": {
        "id": "XSgkbEmROue7",
        "colab_type": "code",
        "colab": {}
      },
      "source": [
        "def double_it(number):\n",
        "  answer = number + number\n",
        "  return answer"
      ],
      "execution_count": 20,
      "outputs": []
    },
    {
      "cell_type": "code",
      "metadata": {
        "id": "TJZCCJtvOzWy",
        "colab_type": "code",
        "colab": {}
      },
      "source": [
        "X = double_it(3)\n",
        "print(X)"
      ],
      "execution_count": null,
      "outputs": []
    },
    {
      "cell_type": "markdown",
      "metadata": {
        "id": "osDra47YO6hc",
        "colab_type": "text"
      },
      "source": [
        "When a function has a return statement, Python substitutes in this return value whenver you called the function in the main part of your program\n",
        "\n",
        "So in the example above, **double_it(3)** returns 6\n",
        "\n",
        "This means that **X = double_it(3)** has the same behavior as if you had written **X = 6**\n",
        "\n",
        "When you call a function you will very often want to put whatever the function returns in a variable. "
      ]
    },
    {
      "cell_type": "code",
      "metadata": {
        "id": "Po8bO1uFPlga",
        "colab_type": "code",
        "colab": {}
      },
      "source": [
        "X = double_it(3)\n",
        "Y = double_it(5)\n",
        "print(\"The answers are\", X, \"and\", Y)"
      ],
      "execution_count": null,
      "outputs": []
    },
    {
      "cell_type": "markdown",
      "metadata": {
        "id": "gsG7ra-3P4EP",
        "colab_type": "text"
      },
      "source": [
        "One common error is forgetting to put in a return statement to send your answer back to the main program. "
      ]
    },
    {
      "cell_type": "code",
      "metadata": {
        "id": "YSvX80VEQA2d",
        "colab_type": "code",
        "colab": {}
      },
      "source": [
        "def add_five(number):\n",
        "  answer = number + 5"
      ],
      "execution_count": 21,
      "outputs": []
    },
    {
      "cell_type": "code",
      "metadata": {
        "id": "bjZoKbN6QIjx",
        "colab_type": "code",
        "colab": {}
      },
      "source": [
        "X = add_five(2)\n",
        "Y = add_five(10)\n",
        "print(\"The answers are\", X, \"and\", Y)"
      ],
      "execution_count": null,
      "outputs": []
    },
    {
      "cell_type": "markdown",
      "metadata": {
        "id": "v9OfkjbSQHmX",
        "colab_type": "text"
      },
      "source": [
        "When we write **X = add_five(2)**, Python puts in variable X the special value None. \n",
        "\n",
        "If you see None popping up in your program, it is often because you forgot to put a return statement in your function\n",
        "\n",
        "Another common mistake is to call a function, but you don't do anything with the answer the function returns. \n",
        "\n",
        "If you don't take the answer returned by a function and put it into a variable, then the answer gets dropped in the void and is gone forever. \n"
      ]
    },
    {
      "cell_type": "code",
      "metadata": {
        "id": "d1xYrSEjQv6-",
        "colab_type": "code",
        "colab": {}
      },
      "source": [
        "def add_five(number):\n",
        "  answer = number + 5\n",
        "  return answer"
      ],
      "execution_count": 22,
      "outputs": []
    },
    {
      "cell_type": "code",
      "metadata": {
        "id": "bYby_U18Q_u7",
        "colab_type": "code",
        "colab": {}
      },
      "source": [
        "X = add_five(2)\n",
        "add_five(10)\n",
        "print(\"The answers are\", X, \"and\", Y)"
      ],
      "execution_count": null,
      "outputs": []
    },
    {
      "cell_type": "markdown",
      "metadata": {
        "id": "1PG1nxTWRJaE",
        "colab_type": "text"
      },
      "source": [
        "In this above example, we ask Python to do the work of adding five to our input 10 ... but we don't do anything with the answer. \n",
        "\n",
        "Because we don't put the answer into a variable, we can't print it later on (or do anything else with it, like use it in an if statement)"
      ]
    },
    {
      "cell_type": "markdown",
      "metadata": {
        "id": "MKn8YkxuRhQ3",
        "colab_type": "text"
      },
      "source": [
        "\n",
        "\n",
        "---\n",
        "\n",
        "\n",
        "\n",
        "---\n",
        "\n",
        "\n",
        "**LOOKING FORWARD**\n",
        "\n",
        "You can put any Python instructions into a function that you could put into your main program. This includes if statements and loops. \n",
        "\n",
        "We will be doing a lot more with complicated functions in future weeks, but for the time being I want to leave you with one last example.\n",
        "\n",
        "Below **how_big** is a function that returns something different depending on how big the input number is."
      ]
    },
    {
      "cell_type": "code",
      "metadata": {
        "id": "vl-bRxp7SPcD",
        "colab_type": "code",
        "colab": {}
      },
      "source": [
        "def how_big(number):\n",
        "  if number < 6:\n",
        "    return \"small\"\n",
        "  elif number < 11:\n",
        "    return \"medium\"\n",
        "  else:\n",
        "    return \"large\""
      ],
      "execution_count": 25,
      "outputs": []
    },
    {
      "cell_type": "code",
      "metadata": {
        "id": "VaR-qbD2Skx4",
        "colab_type": "code",
        "colab": {}
      },
      "source": [
        "X = int( input(\"Enter a number: \") )\n",
        "answer = how_big(X)\n",
        "print(\"Your number is\", answer)"
      ],
      "execution_count": null,
      "outputs": []
    }
  ]
}