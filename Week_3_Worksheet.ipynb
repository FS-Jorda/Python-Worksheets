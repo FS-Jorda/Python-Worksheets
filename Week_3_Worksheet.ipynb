{
  "nbformat": 4,
  "nbformat_minor": 0,
  "metadata": {
    "colab": {
      "name": "Week 3 Worksheet.ipynb",
      "provenance": [],
      "authorship_tag": "ABX9TyP9XgQ0DK2/CbWQwD5lLvLI",
      "include_colab_link": true
    },
    "kernelspec": {
      "name": "python3",
      "display_name": "Python 3"
    }
  },
  "cells": [
    {
      "cell_type": "markdown",
      "metadata": {
        "id": "view-in-github",
        "colab_type": "text"
      },
      "source": [
        "<a href=\"https://colab.research.google.com/github/mlepinski/Python-Worksheets/blob/master/Week_3_Worksheet.ipynb\" target=\"_parent\"><img src=\"https://colab.research.google.com/assets/colab-badge.svg\" alt=\"Open In Colab\"/></a>"
      ]
    },
    {
      "cell_type": "markdown",
      "metadata": {
        "id": "Ave3-NqYDIWB",
        "colab_type": "text"
      },
      "source": [
        "# WEEK TWO WORKSHEET : Flow Control (If statements and Loops)"
      ]
    },
    {
      "cell_type": "markdown",
      "metadata": {
        "id": "F8ppNe7UDOmX",
        "colab_type": "text"
      },
      "source": [
        "**THE BASICS OF IF STATEMENTS**\n",
        "\n",
        "Recall from last week, that we can use an if statement to ask a question about a variable. \n",
        "\n",
        "The instruction inside the if statement is only executed if the answer to the question is True. \n",
        "\n",
        "(In Python, if statement questions are always True/False questions.)\n"
      ]
    },
    {
      "cell_type": "code",
      "metadata": {
        "id": "20VfNok7BjgC",
        "colab_type": "code",
        "colab": {}
      },
      "source": [
        "age = 62\n",
        "if age > 40:\n",
        "  print(\"You are old\")\n",
        "if age < 15:\n",
        "  print(\"You are young\")"
      ],
      "execution_count": null,
      "outputs": []
    },
    {
      "cell_type": "markdown",
      "metadata": {
        "id": "Ehdt0ck-Ej2h",
        "colab_type": "text"
      },
      "source": [
        "Often times we want to put multiple statements inside an \"if\"\n",
        "\n",
        "Python using indentation to tell which block of statements are inside an \"if\"\n",
        "\n",
        "All of the statements that are indented after an \"if\" are executed if the answer is Ture and they are all skipped if the answer is False\n",
        "\n",
        "You can press the \"TAB\" key to indendent a line of code"
      ]
    },
    {
      "cell_type": "code",
      "metadata": {
        "id": "DhI-6mIGFGpe",
        "colab_type": "code",
        "colab": {}
      },
      "source": [
        "age = 18\n",
        "if age > 40:\n",
        "  print(\"You are old\")\n",
        "  print(\"Your age is\", age)\n"
      ],
      "execution_count": null,
      "outputs": []
    },
    {
      "cell_type": "markdown",
      "metadata": {
        "id": "5DKMH-LQFc4G",
        "colab_type": "text"
      },
      "source": [
        "In the example above, nothing is printed because the answer to the question is False, and both of the print statements are indendented to tell Python that they are BOTH inside the \"if\"\n",
        "\n",
        "**Note:** Using the comma inside a print statement is a shortcut for printing two different things on one line"
      ]
    },
    {
      "cell_type": "code",
      "metadata": {
        "id": "ZSYVSmZ7Fy0-",
        "colab_type": "code",
        "colab": {
          "base_uri": "https://localhost:8080/",
          "height": 34
        },
        "outputId": "c466b201-7940-4e7f-d589-4469af82dfa2"
      },
      "source": [
        "age = 18\n",
        "if age > 40:\n",
        "  print(\"You are old\")\n",
        "print(\"Your age is\", age)"
      ],
      "execution_count": 4,
      "outputs": [
        {
          "output_type": "stream",
          "text": [
            "Your age is 18\n"
          ],
          "name": "stdout"
        }
      ]
    },
    {
      "cell_type": "markdown",
      "metadata": {
        "id": "rvE-vysRGAHW",
        "colab_type": "text"
      },
      "source": [
        "For this second example, I didn't change anything except the indendentation\n",
        "\n",
        "In this case, only the first print statement is inside the \"if\". Therefore, the second print statement is executed regardless of whether the answer is True or False. "
      ]
    },
    {
      "cell_type": "markdown",
      "metadata": {
        "id": "RLBJ5nyQG4M4",
        "colab_type": "text"
      },
      "source": [
        "\n",
        "\n",
        "---\n",
        "\n",
        "\n",
        "\n",
        "---\n",
        "\n",
        "\n",
        "**MORE COMPLICATED IF STATEMENTS**\n",
        "\n",
        "Sometimes we want to do one thing if the answer is TRUE and a different thing if the answer is False.\n",
        "\n",
        "**Recall from last time:** We use the \"int\" command to tell Python that an input from the user is an integer and not just a text string)"
      ]
    },
    {
      "cell_type": "code",
      "metadata": {
        "id": "ktN_BPbMF_2m",
        "colab_type": "code",
        "colab": {
          "base_uri": "https://localhost:8080/",
          "height": 50
        },
        "outputId": "bbbef76f-8934-42b1-c9e9-42b625b1ce44"
      },
      "source": [
        "number = int( input(\"Enter a number: \") )\n",
        "if number < 6:\n",
        "  print(\"I can count to\", number, \"on one hand\")\n",
        "if not number < 6:\n",
        "  print(\"I need more than one hand to count to\", number)"
      ],
      "execution_count": 6,
      "outputs": [
        {
          "output_type": "stream",
          "text": [
            "Enter a number: 7\n",
            "I need more than one hand to count to 7\n"
          ],
          "name": "stdout"
        }
      ]
    },
    {
      "cell_type": "markdown",
      "metadata": {
        "id": "EMYV0BHxI61e",
        "colab_type": "text"
      },
      "source": [
        "It is common to use this pattern of: \"if blah\" and then \"if not blah\"\n",
        "\n",
        "Therefore, Python has a shortcut for this pattern. \n",
        "\n",
        "The \"else\" causes Python to do something if the answer to the original question is False. \n",
        "\n",
        "The next example does exactly the same thing as the previous one:"
      ]
    },
    {
      "cell_type": "code",
      "metadata": {
        "id": "woRVZBI3I17v",
        "colab_type": "code",
        "colab": {}
      },
      "source": [
        "number = int( input(\"Enter a number: \") )\n",
        "if number < 6:\n",
        "  print(\"I can count to\", number, \"on one hand\")\n",
        "else:\n",
        "  print(\"I need more than one hand to count to\", number)"
      ],
      "execution_count": null,
      "outputs": []
    },
    {
      "cell_type": "markdown",
      "metadata": {
        "id": "gkCINpTaJagF",
        "colab_type": "text"
      },
      "source": [
        "Sometimes you want to ask several questions in a row.\n",
        "\n",
        "The word \"elif\" is short for \"else if\" and it asks a second question if only if the answer to the first question was False\n"
      ]
    },
    {
      "cell_type": "code",
      "metadata": {
        "id": "N618lGG9JgyP",
        "colab_type": "code",
        "colab": {}
      },
      "source": [
        "number = int( input(\"Enter a number: \") )\n",
        "if number < 6:\n",
        "  print(\"I can count to\", number, \"on one hand\")\n",
        "elif number < 11:\n",
        "  print(\"I can count to\", number, \"using both hands\")\n",
        "else:\n",
        "  print(\"I am sorry, but I don't have enough hands!\")"
      ],
      "execution_count": null,
      "outputs": []
    },
    {
      "cell_type": "markdown",
      "metadata": {
        "id": "U_diQVy5J_Aw",
        "colab_type": "text"
      },
      "source": [
        "In the above example, only one of the three print statements will actually be executed. \n",
        "\n",
        "The first print statement will run if the number is 5 or less. The second print statement will run if the number is between 6 and 10. The final print statement will run in only other cases. (That is, the last statement runs when the number is 11 or more)\n",
        "\n",
        "Here is some instructions that do exactly the same thing, but many people find using the elif and the else to be simpler."
      ]
    },
    {
      "cell_type": "code",
      "metadata": {
        "id": "gd6sS4grKp64",
        "colab_type": "code",
        "colab": {}
      },
      "source": [
        "number = int( input(\"Enter a number: \") )\n",
        "if number < 6:\n",
        "  print(\"I can count to\", number, \"on one hand\")\n",
        "if (not number < 6) and (number < 11):\n",
        "  print(\"I can count to\", number, \"using both hands\")\n",
        "if (not number < 6) and (not number < 11):\n",
        "  print(\"I am sorry, but I don't have enough hands!\")"
      ],
      "execution_count": null,
      "outputs": []
    },
    {
      "cell_type": "markdown",
      "metadata": {
        "id": "tSd93kY-K5dj",
        "colab_type": "text"
      },
      "source": [
        "Notice that the example above uses \"and\" to ask a more complicated question\n",
        "\n",
        "An \"and\" is True if both sides of the \"and\" are true\n",
        "\n",
        "Here is an example:"
      ]
    },
    {
      "cell_type": "code",
      "metadata": {
        "id": "lmOEDLzrLTsN",
        "colab_type": "code",
        "colab": {}
      },
      "source": [
        "color = input(\"Guess a color: \")\n",
        "number = int( input(\"Guess a number: \") )\n",
        "if color == \"pink\" and number == 7:\n",
        "  print(\"Wow, you guessed both the color and the number correctly!\")"
      ],
      "execution_count": null,
      "outputs": []
    },
    {
      "cell_type": "markdown",
      "metadata": {
        "id": "hiiJCuYALjoF",
        "colab_type": "text"
      },
      "source": [
        "In this example, the print statement only happens if BOTH the color is \"pink\" and the number is 7\n",
        "\n",
        "An \"or\" is True if at least one side is True"
      ]
    },
    {
      "cell_type": "code",
      "metadata": {
        "id": "sRhDi-aYLwSl",
        "colab_type": "code",
        "colab": {}
      },
      "source": [
        "color == input(\"Guess a color: \")\n",
        "number == input(\"Guess a number: \")\n",
        "if color == \"pink\" or number == 7:\n",
        "  print(\"Wow, you guessed at least one correctly!\")"
      ],
      "execution_count": null,
      "outputs": []
    },
    {
      "cell_type": "markdown",
      "metadata": {
        "id": "GkBMhbUuMUl3",
        "colab_type": "text"
      },
      "source": [
        "Often we will want to change the value of a variable inside an if statement"
      ]
    },
    {
      "cell_type": "code",
      "metadata": {
        "id": "VWKUDpC5MgGM",
        "colab_type": "code",
        "colab": {}
      },
      "source": [
        "color = input(\"Guess a color: \")\n",
        "number = int( input(\"Guess a number: \") )\n",
        "correct_guess = 0 \n",
        "if color == \"pink\":\n",
        "  correct_guess = correct_guess + 1\n",
        "if number == 7:\n",
        "  correct_guess = correct_guess + 1\n",
        "\n",
        "print(\"You guessed\", correct_guess, \"correctly!\")"
      ],
      "execution_count": null,
      "outputs": []
    },
    {
      "cell_type": "markdown",
      "metadata": {
        "id": "w8BbiXqhNBB3",
        "colab_type": "text"
      },
      "source": [
        "The line \"correct_guess = correct_guess + 1\" tells Python to do the following\n",
        "\n",
        "First, look inside of the variable correct_guess. \n",
        "\n",
        "Second, take whatever is inside correct_guess and add 1 to it\n",
        "\n",
        "Third, take the result (whatever you get after adding one) and place it into the variable correct_guess\n",
        "\n",
        "**Note:** This line changes the value stored in the variable correct_guess, so that it has a different value at the end than it did at the beginning. \n",
        "\n",
        "Also, it is really important that we told Python that correct_guess starts with a 0. Python will give an error message if you try to refer to the variable correct_guess without giving it a starting value"
      ]
    },
    {
      "cell_type": "code",
      "metadata": {
        "id": "CIKgK-ssOOeo",
        "colab_type": "code",
        "colab": {}
      },
      "source": [
        "color = input(\"Guess a color: \")\n",
        "number = int( input(\"Guess a number: \") )\n",
        "\n",
        "if color == \"pink\":\n",
        "  correct_guess = correct_guess + 1\n",
        "if number == 7:\n",
        "  correct_guess = correct_guess + 1\n",
        "\n",
        "print(\"You guessed\", correct_guess, \"correctly!\")"
      ],
      "execution_count": null,
      "outputs": []
    },
    {
      "cell_type": "markdown",
      "metadata": {
        "id": "QtLfMdLCRJOD",
        "colab_type": "text"
      },
      "source": [
        "\n",
        "\n",
        "---\n",
        "\n",
        "\n",
        "\n",
        "---\n",
        "\n",
        "\n",
        "**DOING THINGS REPEATEDLY**\n",
        "\n",
        "An if statement asks a question once and if the answer is True"
      ]
    },
    {
      "cell_type": "code",
      "metadata": {
        "id": "TfH6gRteRI6N",
        "colab_type": "code",
        "colab": {}
      },
      "source": [
        ""
      ],
      "execution_count": null,
      "outputs": []
    }
  ]
}