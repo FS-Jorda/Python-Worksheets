{
  "nbformat": 4,
  "nbformat_minor": 0,
  "metadata": {
    "colab": {
      "name": "Assignment Week 12.ipynb",
      "provenance": [],
      "authorship_tag": "ABX9TyOo9gmQDDgnbb8hgvR8kWHD",
      "include_colab_link": true
    },
    "kernelspec": {
      "name": "python3",
      "display_name": "Python 3"
    }
  },
  "cells": [
    {
      "cell_type": "markdown",
      "metadata": {
        "id": "view-in-github",
        "colab_type": "text"
      },
      "source": [
        "<a href=\"https://colab.research.google.com/github/mlepinski/Python-Worksheets/blob/master/Assignment_Week_12.ipynb\" target=\"_parent\"><img src=\"https://colab.research.google.com/assets/colab-badge.svg\" alt=\"Open In Colab\"/></a>"
      ]
    },
    {
      "cell_type": "markdown",
      "metadata": {
        "id": "BsOHbOwEl2_2"
      },
      "source": [
        "**FUN WITH SPREADSHEET DATA**\n",
        "\n",
        "In the worksheet this week, we had a bunch of examples of working with spreadsheet data in an external file. In the assignment, we will build on the examples in the Worksheet.\n",
        "\n",
        "You can find the worksheet here: https://github.com/mlepinski/Python-Worksheets/blob/master/Week_12_Worksheet.ipynb\n",
        "\n",
        "For these problems you should use the state data file in my GitHub repository. https://raw.githubusercontent.com/mlepinski/Python-Worksheets/master/states.csv"
      ]
    },
    {
      "cell_type": "code",
      "metadata": {
        "id": "Ukfid6sElx_n"
      },
      "source": [
        "file_name = \"https://raw.githubusercontent.com/mlepinski/Python-Worksheets/master/states.csv\""
      ],
      "execution_count": null,
      "outputs": []
    },
    {
      "cell_type": "markdown",
      "metadata": {
        "id": "r4g_dchAm6XT"
      },
      "source": [
        "1) The median is the middle value of a set of numbers. (https://en.wikipedia.org/wiki/Median) \n",
        "\n",
        "Write Python code to find the Median population of a state. Since the state data includes the District of Columbia, the median would be the state with the  26th highest population.\n",
        "\n",
        "2) Write Python code to figure out how many state names start with the letter \"M\". \n",
        "\n",
        "Recall that if you have a string, you can get the first letter of the string by using **[0]**. For example, if **name** is a string, then **name[0]** is the first letter of the string\n",
        "\n",
        "3) Population density is the number of people divided by the amount of area. Write Python code that adds a column to the state data that lists the population density of the state. \n",
        "\n",
        "Note: You can print out the **head()** of the data table to make sure this worked.\n",
        "\n",
        "4) Write Python code to figure out which state has the largest population density? the least population density? the median population density?"
      ]
    }
  ]
}